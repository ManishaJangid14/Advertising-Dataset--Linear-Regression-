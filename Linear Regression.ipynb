{
 "cells": [
  {
   "cell_type": "code",
   "execution_count": 64,
   "id": "43d2832c-575b-461a-86e2-81d2d408e385",
   "metadata": {},
   "outputs": [],
   "source": [
    "# Linear Regression\n",
    "\n",
    "# Regression: Statistical Techinque which helps us measure relationship between the independent varibales and a dependent variables\n",
    "# LR falls under supervised ML category, here we work with labelled data with Y being continuous.\n",
    "# Mean model is redundant model as it has errors associated with each data point.\n",
    "# For mean model SST (Sum of Square of Total Error) = E(Y_actual - Y_mean)^2\n",
    "# LR model has improvised by introducing best fit line thus reducing chance of errors.\n",
    "# For LR model SST (Sum of Square of Error) = E(Y_actual - Y_predicted)^2\n",
    "# NOTE: LR is a parametric method which is based on several assumptions like, no outliers, linearity, normality and no multi-collinearity, etc\n",
    "\n",
    "# For using LR there are different approaches.\n",
    "# 1. OLS Method (Ordinary Least Squares) - Statistical method where SSE is lowest\n",
    "# 2. SGD Method ()Stochastic Gradient Descent) - ML - Deep learning method which is complex as the approach need to iterate through data several times\n",
    "\n",
    "# We stick to OLS method in industry\n",
    "\n",
    "# OLS Method\n",
    "# Based of the fact that model uses best fit line that gives us the least SSE.\n",
    "# OLS gives output as best fit line equation\n",
    "\n",
    "# Types of linear regression\n",
    "# 1. simple LR - one indendent varibale and one dependent varibale - For eg. predicting salary based on experience\n",
    "# Equation: y = B0 + B1*X or y = m*x + c\n",
    "# where B1 is slope co-efficient of X\n",
    "# where Bo is Y-intercept\n",
    "\n",
    "# B1 indicated that one unit changes in X is going to cause how many unit chnages in Y\n",
    "# B1 could positive or negative value indicating the type of relationship between the variables\n",
    "# B0 is is that point oon the Y-axis where the best fit line intersects the Y-axis\n",
    "# B0 is a constant in equation, which is useful to predict Y where X is unknown, for eg. a fresher employee with 0 experience will get a basic salary\n",
    "\n",
    "#2. Multiple LR - multiple independent varibale and one dependent varibale - For eg. predicting salary based on experience, domain, education, skills, etc\n",
    "# Equation: y = B0 + B1*X1 + B2*X2 + B3*X3 + ..... + Bn*Xn\n",
    "# Every independent variable will have different B value as every X will have different on Y.\n",
    "\n",
    "# Training the model:\n",
    "# Input: X and Y (historical) both are fed to model\n",
    "# Output: Best Fit Line Equation [ y = B0 + B1*X1 + B2*X2 + B3*X3 + ..... + Bn*Xn ]\n",
    "\n",
    "# Testing of model:\n",
    "# Validation of model\n",
    "# Input: Only X is fed\n",
    "# Output: Y (predicted) based on best fit line equation\n",
    "\n",
    "# Evaluation of the model:\n",
    "# We use various evaluation matrices\n",
    "# R^2, Adjusted R^2, RMSE, AIC/BIC\n",
    "\n",
    "# Tuning of the model:\n",
    "# 1. Feature selection\n",
    "# 2. Regularization Techniques (Ridge, Lasso, ElasticNet)\n",
    "# 3. SGD"
   ]
  },
  {
   "cell_type": "code",
   "execution_count": 65,
   "id": "8ce9b72b-da30-45e8-9fc4-8f7e5381a18a",
   "metadata": {},
   "outputs": [],
   "source": [
    "# Imports\n",
    "import math\n",
    "import pandas as pd\n",
    "import numpy as np\n",
    "import matplotlib.pyplot as plt\n",
    "import seaborn as sns\n",
    "import plotly.express as px\n",
    "import plotly.figure_factory as ff\n",
    "import warnings \n",
    "warnings.filterwarnings(\"ignore\")"
   ]
  },
  {
   "cell_type": "code",
   "execution_count": 66,
   "id": "d323eb19-dfb4-47f4-a593-3300b51dccb2",
   "metadata": {},
   "outputs": [
    {
     "data": {
      "text/html": [
       "<div>\n",
       "<style scoped>\n",
       "    .dataframe tbody tr th:only-of-type {\n",
       "        vertical-align: middle;\n",
       "    }\n",
       "\n",
       "    .dataframe tbody tr th {\n",
       "        vertical-align: top;\n",
       "    }\n",
       "\n",
       "    .dataframe thead th {\n",
       "        text-align: right;\n",
       "    }\n",
       "</style>\n",
       "<table border=\"1\" class=\"dataframe\">\n",
       "  <thead>\n",
       "    <tr style=\"text-align: right;\">\n",
       "      <th></th>\n",
       "      <th>TV</th>\n",
       "      <th>radio</th>\n",
       "      <th>newspaper</th>\n",
       "      <th>sales</th>\n",
       "    </tr>\n",
       "  </thead>\n",
       "  <tbody>\n",
       "    <tr>\n",
       "      <th>1</th>\n",
       "      <td>230.1</td>\n",
       "      <td>37.8</td>\n",
       "      <td>69.2</td>\n",
       "      <td>22.1</td>\n",
       "    </tr>\n",
       "    <tr>\n",
       "      <th>2</th>\n",
       "      <td>44.5</td>\n",
       "      <td>39.3</td>\n",
       "      <td>45.1</td>\n",
       "      <td>10.4</td>\n",
       "    </tr>\n",
       "    <tr>\n",
       "      <th>3</th>\n",
       "      <td>17.2</td>\n",
       "      <td>45.9</td>\n",
       "      <td>69.3</td>\n",
       "      <td>9.3</td>\n",
       "    </tr>\n",
       "    <tr>\n",
       "      <th>4</th>\n",
       "      <td>151.5</td>\n",
       "      <td>41.3</td>\n",
       "      <td>58.5</td>\n",
       "      <td>18.5</td>\n",
       "    </tr>\n",
       "    <tr>\n",
       "      <th>5</th>\n",
       "      <td>180.8</td>\n",
       "      <td>10.8</td>\n",
       "      <td>58.4</td>\n",
       "      <td>12.9</td>\n",
       "    </tr>\n",
       "    <tr>\n",
       "      <th>...</th>\n",
       "      <td>...</td>\n",
       "      <td>...</td>\n",
       "      <td>...</td>\n",
       "      <td>...</td>\n",
       "    </tr>\n",
       "    <tr>\n",
       "      <th>196</th>\n",
       "      <td>38.2</td>\n",
       "      <td>3.7</td>\n",
       "      <td>13.8</td>\n",
       "      <td>7.6</td>\n",
       "    </tr>\n",
       "    <tr>\n",
       "      <th>197</th>\n",
       "      <td>94.2</td>\n",
       "      <td>4.9</td>\n",
       "      <td>8.1</td>\n",
       "      <td>9.7</td>\n",
       "    </tr>\n",
       "    <tr>\n",
       "      <th>198</th>\n",
       "      <td>177.0</td>\n",
       "      <td>9.3</td>\n",
       "      <td>6.4</td>\n",
       "      <td>12.8</td>\n",
       "    </tr>\n",
       "    <tr>\n",
       "      <th>199</th>\n",
       "      <td>283.6</td>\n",
       "      <td>42.0</td>\n",
       "      <td>66.2</td>\n",
       "      <td>25.5</td>\n",
       "    </tr>\n",
       "    <tr>\n",
       "      <th>200</th>\n",
       "      <td>232.1</td>\n",
       "      <td>8.6</td>\n",
       "      <td>8.7</td>\n",
       "      <td>13.4</td>\n",
       "    </tr>\n",
       "  </tbody>\n",
       "</table>\n",
       "<p>200 rows × 4 columns</p>\n",
       "</div>"
      ],
      "text/plain": [
       "        TV  radio  newspaper  sales\n",
       "1    230.1   37.8       69.2   22.1\n",
       "2     44.5   39.3       45.1   10.4\n",
       "3     17.2   45.9       69.3    9.3\n",
       "4    151.5   41.3       58.5   18.5\n",
       "5    180.8   10.8       58.4   12.9\n",
       "..     ...    ...        ...    ...\n",
       "196   38.2    3.7       13.8    7.6\n",
       "197   94.2    4.9        8.1    9.7\n",
       "198  177.0    9.3        6.4   12.8\n",
       "199  283.6   42.0       66.2   25.5\n",
       "200  232.1    8.6        8.7   13.4\n",
       "\n",
       "[200 rows x 4 columns]"
      ]
     },
     "execution_count": 66,
     "metadata": {},
     "output_type": "execute_result"
    }
   ],
   "source": [
    "ad_data = pd.read_csv(r\"C:\\Users\\HP\\Downloads\\Advertising.csv\", index_col = 0, header = 0)\n",
    "ad_data"
   ]
  },
  {
   "cell_type": "code",
   "execution_count": 67,
   "id": "ca893415-21ce-46f5-8a9d-cf5efc39a4b7",
   "metadata": {},
   "outputs": [
    {
     "name": "stdout",
     "output_type": "stream",
     "text": [
      "TV           float64\n",
      "radio        float64\n",
      "newspaper    float64\n",
      "sales        float64\n",
      "dtype: object\n",
      "\n",
      "(200, 4)\n",
      "\n",
      "               TV       radio   newspaper       sales\n",
      "count  200.000000  200.000000  200.000000  200.000000\n",
      "mean   147.042500   23.264000   30.554000   14.022500\n",
      "std     85.854236   14.846809   21.778621    5.217457\n",
      "min      0.700000    0.000000    0.300000    1.600000\n",
      "25%     74.375000    9.975000   12.750000   10.375000\n",
      "50%    149.750000   22.900000   25.750000   12.900000\n",
      "75%    218.825000   36.525000   45.100000   17.400000\n",
      "max    296.400000   49.600000  114.000000   27.000000\n"
     ]
    }
   ],
   "source": [
    "print(ad_data.dtypes)\n",
    "print()\n",
    "print(ad_data.shape)\n",
    "print()\n",
    "print(ad_data.describe())"
   ]
  },
  {
   "cell_type": "markdown",
   "id": "c4beffc3",
   "metadata": {},
   "source": [
    "* count tell the no.of values present in the data, since there is 200 values means there is no missing values. \n",
    "* mean represents the average investment done on each medium and the sales is increasing by the average of 14k$ everyyear.\n",
    "* checking the outliers: for lower end--> the diff between min and 25% is less than std means there is no outliers and same for higher end---> the diff between max and 75% is less compared to std tat means there is no outliers. \n",
    "* Here if see in newspapper there are outliers at the higher end in the data because the diff between max and 75% is huge as compared to std.\n"
   ]
  },
  {
   "cell_type": "code",
   "execution_count": 68,
   "id": "3cb2dc5c-cbd6-46b9-a47f-dcf5857992fb",
   "metadata": {},
   "outputs": [
    {
     "data": {
      "text/plain": [
       "TV           0\n",
       "radio        0\n",
       "newspaper    0\n",
       "sales        0\n",
       "dtype: int64"
      ]
     },
     "execution_count": 68,
     "metadata": {},
     "output_type": "execute_result"
    }
   ],
   "source": [
    "# To check null values in the data\n",
    "ad_data.isnull().sum()"
   ]
  },
  {
   "cell_type": "code",
   "execution_count": 69,
   "id": "ca5dc70c-63fd-47b9-abff-25f17ed28daa",
   "metadata": {},
   "outputs": [
    {
     "data": {
      "application/vnd.plotly.v1+json": {
       "config": {
        "plotlyServerURL": "https://plot.ly"
       },
       "data": [
        {
         "alignmentgroup": "True",
         "hovertemplate": "variable=%{x}<br>value=%{y}<extra></extra>",
         "legendgroup": "",
         "marker": {
          "color": "#636efa"
         },
         "name": "",
         "notched": false,
         "offsetgroup": "",
         "orientation": "v",
         "showlegend": false,
         "type": "box",
         "x": [
          "TV",
          "TV",
          "TV",
          "TV",
          "TV",
          "TV",
          "TV",
          "TV",
          "TV",
          "TV",
          "TV",
          "TV",
          "TV",
          "TV",
          "TV",
          "TV",
          "TV",
          "TV",
          "TV",
          "TV",
          "TV",
          "TV",
          "TV",
          "TV",
          "TV",
          "TV",
          "TV",
          "TV",
          "TV",
          "TV",
          "TV",
          "TV",
          "TV",
          "TV",
          "TV",
          "TV",
          "TV",
          "TV",
          "TV",
          "TV",
          "TV",
          "TV",
          "TV",
          "TV",
          "TV",
          "TV",
          "TV",
          "TV",
          "TV",
          "TV",
          "TV",
          "TV",
          "TV",
          "TV",
          "TV",
          "TV",
          "TV",
          "TV",
          "TV",
          "TV",
          "TV",
          "TV",
          "TV",
          "TV",
          "TV",
          "TV",
          "TV",
          "TV",
          "TV",
          "TV",
          "TV",
          "TV",
          "TV",
          "TV",
          "TV",
          "TV",
          "TV",
          "TV",
          "TV",
          "TV",
          "TV",
          "TV",
          "TV",
          "TV",
          "TV",
          "TV",
          "TV",
          "TV",
          "TV",
          "TV",
          "TV",
          "TV",
          "TV",
          "TV",
          "TV",
          "TV",
          "TV",
          "TV",
          "TV",
          "TV",
          "TV",
          "TV",
          "TV",
          "TV",
          "TV",
          "TV",
          "TV",
          "TV",
          "TV",
          "TV",
          "TV",
          "TV",
          "TV",
          "TV",
          "TV",
          "TV",
          "TV",
          "TV",
          "TV",
          "TV",
          "TV",
          "TV",
          "TV",
          "TV",
          "TV",
          "TV",
          "TV",
          "TV",
          "TV",
          "TV",
          "TV",
          "TV",
          "TV",
          "TV",
          "TV",
          "TV",
          "TV",
          "TV",
          "TV",
          "TV",
          "TV",
          "TV",
          "TV",
          "TV",
          "TV",
          "TV",
          "TV",
          "TV",
          "TV",
          "TV",
          "TV",
          "TV",
          "TV",
          "TV",
          "TV",
          "TV",
          "TV",
          "TV",
          "TV",
          "TV",
          "TV",
          "TV",
          "TV",
          "TV",
          "TV",
          "TV",
          "TV",
          "TV",
          "TV",
          "TV",
          "TV",
          "TV",
          "TV",
          "TV",
          "TV",
          "TV",
          "TV",
          "TV",
          "TV",
          "TV",
          "TV",
          "TV",
          "TV",
          "TV",
          "TV",
          "TV",
          "TV",
          "TV",
          "TV",
          "TV",
          "TV",
          "TV",
          "TV",
          "TV",
          "TV",
          "TV",
          "TV",
          "TV",
          "TV",
          "TV",
          "radio",
          "radio",
          "radio",
          "radio",
          "radio",
          "radio",
          "radio",
          "radio",
          "radio",
          "radio",
          "radio",
          "radio",
          "radio",
          "radio",
          "radio",
          "radio",
          "radio",
          "radio",
          "radio",
          "radio",
          "radio",
          "radio",
          "radio",
          "radio",
          "radio",
          "radio",
          "radio",
          "radio",
          "radio",
          "radio",
          "radio",
          "radio",
          "radio",
          "radio",
          "radio",
          "radio",
          "radio",
          "radio",
          "radio",
          "radio",
          "radio",
          "radio",
          "radio",
          "radio",
          "radio",
          "radio",
          "radio",
          "radio",
          "radio",
          "radio",
          "radio",
          "radio",
          "radio",
          "radio",
          "radio",
          "radio",
          "radio",
          "radio",
          "radio",
          "radio",
          "radio",
          "radio",
          "radio",
          "radio",
          "radio",
          "radio",
          "radio",
          "radio",
          "radio",
          "radio",
          "radio",
          "radio",
          "radio",
          "radio",
          "radio",
          "radio",
          "radio",
          "radio",
          "radio",
          "radio",
          "radio",
          "radio",
          "radio",
          "radio",
          "radio",
          "radio",
          "radio",
          "radio",
          "radio",
          "radio",
          "radio",
          "radio",
          "radio",
          "radio",
          "radio",
          "radio",
          "radio",
          "radio",
          "radio",
          "radio",
          "radio",
          "radio",
          "radio",
          "radio",
          "radio",
          "radio",
          "radio",
          "radio",
          "radio",
          "radio",
          "radio",
          "radio",
          "radio",
          "radio",
          "radio",
          "radio",
          "radio",
          "radio",
          "radio",
          "radio",
          "radio",
          "radio",
          "radio",
          "radio",
          "radio",
          "radio",
          "radio",
          "radio",
          "radio",
          "radio",
          "radio",
          "radio",
          "radio",
          "radio",
          "radio",
          "radio",
          "radio",
          "radio",
          "radio",
          "radio",
          "radio",
          "radio",
          "radio",
          "radio",
          "radio",
          "radio",
          "radio",
          "radio",
          "radio",
          "radio",
          "radio",
          "radio",
          "radio",
          "radio",
          "radio",
          "radio",
          "radio",
          "radio",
          "radio",
          "radio",
          "radio",
          "radio",
          "radio",
          "radio",
          "radio",
          "radio",
          "radio",
          "radio",
          "radio",
          "radio",
          "radio",
          "radio",
          "radio",
          "radio",
          "radio",
          "radio",
          "radio",
          "radio",
          "radio",
          "radio",
          "radio",
          "radio",
          "radio",
          "radio",
          "radio",
          "radio",
          "radio",
          "radio",
          "radio",
          "radio",
          "radio",
          "radio",
          "radio",
          "radio",
          "radio",
          "radio",
          "radio",
          "radio",
          "radio",
          "radio",
          "newspaper",
          "newspaper",
          "newspaper",
          "newspaper",
          "newspaper",
          "newspaper",
          "newspaper",
          "newspaper",
          "newspaper",
          "newspaper",
          "newspaper",
          "newspaper",
          "newspaper",
          "newspaper",
          "newspaper",
          "newspaper",
          "newspaper",
          "newspaper",
          "newspaper",
          "newspaper",
          "newspaper",
          "newspaper",
          "newspaper",
          "newspaper",
          "newspaper",
          "newspaper",
          "newspaper",
          "newspaper",
          "newspaper",
          "newspaper",
          "newspaper",
          "newspaper",
          "newspaper",
          "newspaper",
          "newspaper",
          "newspaper",
          "newspaper",
          "newspaper",
          "newspaper",
          "newspaper",
          "newspaper",
          "newspaper",
          "newspaper",
          "newspaper",
          "newspaper",
          "newspaper",
          "newspaper",
          "newspaper",
          "newspaper",
          "newspaper",
          "newspaper",
          "newspaper",
          "newspaper",
          "newspaper",
          "newspaper",
          "newspaper",
          "newspaper",
          "newspaper",
          "newspaper",
          "newspaper",
          "newspaper",
          "newspaper",
          "newspaper",
          "newspaper",
          "newspaper",
          "newspaper",
          "newspaper",
          "newspaper",
          "newspaper",
          "newspaper",
          "newspaper",
          "newspaper",
          "newspaper",
          "newspaper",
          "newspaper",
          "newspaper",
          "newspaper",
          "newspaper",
          "newspaper",
          "newspaper",
          "newspaper",
          "newspaper",
          "newspaper",
          "newspaper",
          "newspaper",
          "newspaper",
          "newspaper",
          "newspaper",
          "newspaper",
          "newspaper",
          "newspaper",
          "newspaper",
          "newspaper",
          "newspaper",
          "newspaper",
          "newspaper",
          "newspaper",
          "newspaper",
          "newspaper",
          "newspaper",
          "newspaper",
          "newspaper",
          "newspaper",
          "newspaper",
          "newspaper",
          "newspaper",
          "newspaper",
          "newspaper",
          "newspaper",
          "newspaper",
          "newspaper",
          "newspaper",
          "newspaper",
          "newspaper",
          "newspaper",
          "newspaper",
          "newspaper",
          "newspaper",
          "newspaper",
          "newspaper",
          "newspaper",
          "newspaper",
          "newspaper",
          "newspaper",
          "newspaper",
          "newspaper",
          "newspaper",
          "newspaper",
          "newspaper",
          "newspaper",
          "newspaper",
          "newspaper",
          "newspaper",
          "newspaper",
          "newspaper",
          "newspaper",
          "newspaper",
          "newspaper",
          "newspaper",
          "newspaper",
          "newspaper",
          "newspaper",
          "newspaper",
          "newspaper",
          "newspaper",
          "newspaper",
          "newspaper",
          "newspaper",
          "newspaper",
          "newspaper",
          "newspaper",
          "newspaper",
          "newspaper",
          "newspaper",
          "newspaper",
          "newspaper",
          "newspaper",
          "newspaper",
          "newspaper",
          "newspaper",
          "newspaper",
          "newspaper",
          "newspaper",
          "newspaper",
          "newspaper",
          "newspaper",
          "newspaper",
          "newspaper",
          "newspaper",
          "newspaper",
          "newspaper",
          "newspaper",
          "newspaper",
          "newspaper",
          "newspaper",
          "newspaper",
          "newspaper",
          "newspaper",
          "newspaper",
          "newspaper",
          "newspaper",
          "newspaper",
          "newspaper",
          "newspaper",
          "newspaper",
          "newspaper",
          "newspaper",
          "newspaper",
          "newspaper",
          "newspaper",
          "newspaper",
          "newspaper",
          "newspaper",
          "newspaper",
          "newspaper",
          "newspaper",
          "newspaper",
          "newspaper",
          "newspaper",
          "newspaper",
          "sales",
          "sales",
          "sales",
          "sales",
          "sales",
          "sales",
          "sales",
          "sales",
          "sales",
          "sales",
          "sales",
          "sales",
          "sales",
          "sales",
          "sales",
          "sales",
          "sales",
          "sales",
          "sales",
          "sales",
          "sales",
          "sales",
          "sales",
          "sales",
          "sales",
          "sales",
          "sales",
          "sales",
          "sales",
          "sales",
          "sales",
          "sales",
          "sales",
          "sales",
          "sales",
          "sales",
          "sales",
          "sales",
          "sales",
          "sales",
          "sales",
          "sales",
          "sales",
          "sales",
          "sales",
          "sales",
          "sales",
          "sales",
          "sales",
          "sales",
          "sales",
          "sales",
          "sales",
          "sales",
          "sales",
          "sales",
          "sales",
          "sales",
          "sales",
          "sales",
          "sales",
          "sales",
          "sales",
          "sales",
          "sales",
          "sales",
          "sales",
          "sales",
          "sales",
          "sales",
          "sales",
          "sales",
          "sales",
          "sales",
          "sales",
          "sales",
          "sales",
          "sales",
          "sales",
          "sales",
          "sales",
          "sales",
          "sales",
          "sales",
          "sales",
          "sales",
          "sales",
          "sales",
          "sales",
          "sales",
          "sales",
          "sales",
          "sales",
          "sales",
          "sales",
          "sales",
          "sales",
          "sales",
          "sales",
          "sales",
          "sales",
          "sales",
          "sales",
          "sales",
          "sales",
          "sales",
          "sales",
          "sales",
          "sales",
          "sales",
          "sales",
          "sales",
          "sales",
          "sales",
          "sales",
          "sales",
          "sales",
          "sales",
          "sales",
          "sales",
          "sales",
          "sales",
          "sales",
          "sales",
          "sales",
          "sales",
          "sales",
          "sales",
          "sales",
          "sales",
          "sales",
          "sales",
          "sales",
          "sales",
          "sales",
          "sales",
          "sales",
          "sales",
          "sales",
          "sales",
          "sales",
          "sales",
          "sales",
          "sales",
          "sales",
          "sales",
          "sales",
          "sales",
          "sales",
          "sales",
          "sales",
          "sales",
          "sales",
          "sales",
          "sales",
          "sales",
          "sales",
          "sales",
          "sales",
          "sales",
          "sales",
          "sales",
          "sales",
          "sales",
          "sales",
          "sales",
          "sales",
          "sales",
          "sales",
          "sales",
          "sales",
          "sales",
          "sales",
          "sales",
          "sales",
          "sales",
          "sales",
          "sales",
          "sales",
          "sales",
          "sales",
          "sales",
          "sales",
          "sales",
          "sales",
          "sales",
          "sales",
          "sales",
          "sales",
          "sales",
          "sales",
          "sales",
          "sales",
          "sales",
          "sales",
          "sales",
          "sales",
          "sales",
          "sales",
          "sales"
         ],
         "x0": " ",
         "xaxis": "x",
         "y": [
          230.1,
          44.5,
          17.2,
          151.5,
          180.8,
          8.7,
          57.5,
          120.2,
          8.6,
          199.8,
          66.1,
          214.7,
          23.8,
          97.5,
          204.1,
          195.4,
          67.8,
          281.4,
          69.2,
          147.3,
          218.4,
          237.4,
          13.2,
          228.3,
          62.3,
          262.9,
          142.9,
          240.1,
          248.8,
          70.6,
          292.9,
          112.9,
          97.2,
          265.6,
          95.7,
          290.7,
          266.9,
          74.7,
          43.1,
          228,
          202.5,
          177,
          293.6,
          206.9,
          25.1,
          175.1,
          89.7,
          239.9,
          227.2,
          66.9,
          199.8,
          100.4,
          216.4,
          182.6,
          262.7,
          198.9,
          7.3,
          136.2,
          210.8,
          210.7,
          53.5,
          261.3,
          239.3,
          102.7,
          131.1,
          69,
          31.5,
          139.3,
          237.4,
          216.8,
          199.1,
          109.8,
          26.8,
          129.4,
          213.4,
          16.9,
          27.5,
          120.5,
          5.4,
          116,
          76.4,
          239.8,
          75.3,
          68.4,
          213.5,
          193.2,
          76.3,
          110.7,
          88.3,
          109.8,
          134.3,
          28.6,
          217.7,
          250.9,
          107.4,
          163.3,
          197.6,
          184.9,
          289.7,
          135.2,
          222.4,
          296.4,
          280.2,
          187.9,
          238.2,
          137.9,
          25,
          90.4,
          13.1,
          255.4,
          225.8,
          241.7,
          175.7,
          209.6,
          78.2,
          75.1,
          139.2,
          76.4,
          125.7,
          19.4,
          141.3,
          18.8,
          224,
          123.1,
          229.5,
          87.2,
          7.8,
          80.2,
          220.3,
          59.6,
          0.7,
          265.2,
          8.4,
          219.8,
          36.9,
          48.3,
          25.6,
          273.7,
          43,
          184.9,
          73.4,
          193.7,
          220.5,
          104.6,
          96.2,
          140.3,
          240.1,
          243.2,
          38,
          44.7,
          280.7,
          121,
          197.6,
          171.3,
          187.8,
          4.1,
          93.9,
          149.8,
          11.7,
          131.7,
          172.5,
          85.7,
          188.4,
          163.5,
          117.2,
          234.5,
          17.9,
          206.8,
          215.4,
          284.3,
          50,
          164.5,
          19.6,
          168.4,
          222.4,
          276.9,
          248.4,
          170.2,
          276.7,
          165.6,
          156.6,
          218.5,
          56.2,
          287.6,
          253.8,
          205,
          139.5,
          191.1,
          286,
          18.7,
          39.5,
          75.5,
          17.2,
          166.8,
          149.7,
          38.2,
          94.2,
          177,
          283.6,
          232.1,
          37.8,
          39.3,
          45.9,
          41.3,
          10.8,
          48.9,
          32.8,
          19.6,
          2.1,
          2.6,
          5.8,
          24,
          35.1,
          7.6,
          32.9,
          47.7,
          36.6,
          39.6,
          20.5,
          23.9,
          27.7,
          5.1,
          15.9,
          16.9,
          12.6,
          3.5,
          29.3,
          16.7,
          27.1,
          16,
          28.3,
          17.4,
          1.5,
          20,
          1.4,
          4.1,
          43.8,
          49.4,
          26.7,
          37.7,
          22.3,
          33.4,
          27.7,
          8.4,
          25.7,
          22.5,
          9.9,
          41.5,
          15.8,
          11.7,
          3.1,
          9.6,
          41.7,
          46.2,
          28.8,
          49.4,
          28.1,
          19.2,
          49.6,
          29.5,
          2,
          42.7,
          15.5,
          29.6,
          42.8,
          9.3,
          24.6,
          14.5,
          27.5,
          43.9,
          30.6,
          14.3,
          33,
          5.7,
          24.6,
          43.7,
          1.6,
          28.5,
          29.9,
          7.7,
          26.7,
          4.1,
          20.3,
          44.5,
          43,
          18.4,
          27.5,
          40.6,
          25.5,
          47.8,
          4.9,
          1.5,
          33.5,
          36.5,
          14,
          31.6,
          3.5,
          21,
          42.3,
          41.7,
          4.3,
          36.3,
          10.1,
          17.2,
          34.3,
          46.4,
          11,
          0.3,
          0.4,
          26.9,
          8.2,
          38,
          15.4,
          20.6,
          46.8,
          35,
          14.3,
          0.8,
          36.9,
          16,
          26.8,
          21.7,
          2.4,
          34.6,
          32.3,
          11.8,
          38.9,
          0,
          49,
          12,
          39.6,
          2.9,
          27.2,
          33.5,
          38.6,
          47,
          39,
          28.9,
          25.9,
          43.9,
          17,
          35.4,
          33.2,
          5.7,
          14.8,
          1.9,
          7.3,
          49,
          40.3,
          25.8,
          13.9,
          8.4,
          23.3,
          39.7,
          21.1,
          11.6,
          43.5,
          1.3,
          36.9,
          18.4,
          18.1,
          35.8,
          18.1,
          36.8,
          14.7,
          3.4,
          37.6,
          5.2,
          23.6,
          10.6,
          11.6,
          20.9,
          20.1,
          7.1,
          3.4,
          48.9,
          30.2,
          7.8,
          2.3,
          10,
          2.6,
          5.4,
          5.7,
          43,
          21.3,
          45.1,
          2.1,
          28.7,
          13.9,
          12.1,
          41.1,
          10.8,
          4.1,
          42,
          35.6,
          3.7,
          4.9,
          9.3,
          42,
          8.6,
          69.2,
          45.1,
          69.3,
          58.5,
          58.4,
          75,
          23.5,
          11.6,
          1,
          21.2,
          24.2,
          4,
          65.9,
          7.2,
          46,
          52.9,
          114,
          55.8,
          18.3,
          19.1,
          53.4,
          23.5,
          49.6,
          26.2,
          18.3,
          19.5,
          12.6,
          22.9,
          22.9,
          40.8,
          43.2,
          38.6,
          30,
          0.3,
          7.4,
          8.5,
          5,
          45.7,
          35.1,
          32,
          31.6,
          38.7,
          1.8,
          26.4,
          43.3,
          31.5,
          35.7,
          18.5,
          49.9,
          36.8,
          34.6,
          3.6,
          39.6,
          58.7,
          15.9,
          60,
          41.4,
          16.6,
          37.7,
          9.3,
          21.4,
          54.7,
          27.3,
          8.4,
          28.9,
          0.9,
          2.2,
          10.2,
          11,
          27.2,
          38.7,
          31.7,
          19.3,
          31.3,
          13.1,
          89.4,
          20.7,
          14.2,
          9.4,
          23.1,
          22.3,
          36.9,
          32.5,
          35.6,
          33.8,
          65.7,
          16,
          63.2,
          73.4,
          51.4,
          9.3,
          33,
          59,
          72.3,
          10.9,
          52.9,
          5.9,
          22,
          51.2,
          45.9,
          49.8,
          100.9,
          21.4,
          17.9,
          5.3,
          59,
          29.7,
          23.2,
          25.6,
          5.5,
          56.5,
          23.2,
          2.4,
          10.7,
          34.5,
          52.7,
          25.6,
          14.8,
          79.2,
          22.3,
          46.2,
          50.4,
          15.6,
          12.4,
          74.2,
          25.9,
          50.6,
          9.2,
          3.2,
          43.1,
          8.7,
          43,
          2.1,
          45.1,
          65.6,
          8.5,
          9.3,
          59.7,
          20.5,
          1.7,
          12.9,
          75.6,
          37.9,
          34.4,
          38.9,
          9,
          8.7,
          44.3,
          11.9,
          20.6,
          37,
          48.7,
          14.2,
          37.7,
          9.5,
          5.7,
          50.5,
          24.3,
          45.2,
          34.6,
          30.7,
          49.3,
          25.6,
          7.4,
          5.4,
          84.8,
          21.6,
          19.4,
          57.6,
          6.4,
          18.4,
          47.4,
          17,
          12.8,
          13.1,
          41.8,
          20.3,
          35.2,
          23.7,
          17.6,
          8.3,
          27.4,
          29.7,
          71.8,
          30,
          19.6,
          26.6,
          18.2,
          3.7,
          23.4,
          5.8,
          6,
          31.6,
          3.6,
          6,
          13.8,
          8.1,
          6.4,
          66.2,
          8.7,
          22.1,
          10.4,
          9.3,
          18.5,
          12.9,
          7.2,
          11.8,
          13.2,
          4.8,
          10.6,
          8.6,
          17.4,
          9.2,
          9.7,
          19,
          22.4,
          12.5,
          24.4,
          11.3,
          14.6,
          18,
          12.5,
          5.6,
          15.5,
          9.7,
          12,
          15,
          15.9,
          18.9,
          10.5,
          21.4,
          11.9,
          9.6,
          17.4,
          9.5,
          12.8,
          25.4,
          14.7,
          10.1,
          21.5,
          16.6,
          17.1,
          20.7,
          12.9,
          8.5,
          14.9,
          10.6,
          23.2,
          14.8,
          9.7,
          11.4,
          10.7,
          22.6,
          21.2,
          20.2,
          23.7,
          5.5,
          13.2,
          23.8,
          18.4,
          8.1,
          24.2,
          15.7,
          14,
          18,
          9.3,
          9.5,
          13.4,
          18.9,
          22.3,
          18.3,
          12.4,
          8.8,
          11,
          17,
          8.7,
          6.9,
          14.2,
          5.3,
          11,
          11.8,
          12.3,
          11.3,
          13.6,
          21.7,
          15.2,
          12,
          16,
          12.9,
          16.7,
          11.2,
          7.3,
          19.4,
          22.2,
          11.5,
          16.9,
          11.7,
          15.5,
          25.4,
          17.2,
          11.7,
          23.8,
          14.8,
          14.7,
          20.7,
          19.2,
          7.2,
          8.7,
          5.3,
          19.8,
          13.4,
          21.8,
          14.1,
          15.9,
          14.6,
          12.6,
          12.2,
          9.4,
          15.9,
          6.6,
          15.5,
          7,
          11.6,
          15.2,
          19.7,
          10.6,
          6.6,
          8.8,
          24.7,
          9.7,
          1.6,
          12.7,
          5.7,
          19.6,
          10.8,
          11.6,
          9.5,
          20.8,
          9.6,
          20.7,
          10.9,
          19.2,
          20.1,
          10.4,
          11.4,
          10.3,
          13.2,
          25.4,
          10.9,
          10.1,
          16.1,
          11.6,
          16.6,
          19,
          15.6,
          3.2,
          15.3,
          10.1,
          7.3,
          12.9,
          14.4,
          13.3,
          14.9,
          18,
          11.9,
          11.9,
          8,
          12.2,
          17.1,
          15,
          8.4,
          14.5,
          7.6,
          11.7,
          11.5,
          27,
          20.2,
          11.7,
          11.8,
          12.6,
          10.5,
          12.2,
          8.7,
          26.2,
          17.6,
          22.6,
          10.3,
          17.3,
          15.9,
          6.7,
          10.8,
          9.9,
          5.9,
          19.6,
          17.3,
          7.6,
          9.7,
          12.8,
          25.5,
          13.4
         ],
         "y0": " ",
         "yaxis": "y"
        }
       ],
       "layout": {
        "autosize": true,
        "boxmode": "group",
        "legend": {
         "tracegroupgap": 0
        },
        "margin": {
         "t": 60
        },
        "template": {
         "data": {
          "bar": [
           {
            "error_x": {
             "color": "#2a3f5f"
            },
            "error_y": {
             "color": "#2a3f5f"
            },
            "marker": {
             "line": {
              "color": "#E5ECF6",
              "width": 0.5
             },
             "pattern": {
              "fillmode": "overlay",
              "size": 10,
              "solidity": 0.2
             }
            },
            "type": "bar"
           }
          ],
          "barpolar": [
           {
            "marker": {
             "line": {
              "color": "#E5ECF6",
              "width": 0.5
             },
             "pattern": {
              "fillmode": "overlay",
              "size": 10,
              "solidity": 0.2
             }
            },
            "type": "barpolar"
           }
          ],
          "carpet": [
           {
            "aaxis": {
             "endlinecolor": "#2a3f5f",
             "gridcolor": "white",
             "linecolor": "white",
             "minorgridcolor": "white",
             "startlinecolor": "#2a3f5f"
            },
            "baxis": {
             "endlinecolor": "#2a3f5f",
             "gridcolor": "white",
             "linecolor": "white",
             "minorgridcolor": "white",
             "startlinecolor": "#2a3f5f"
            },
            "type": "carpet"
           }
          ],
          "choropleth": [
           {
            "colorbar": {
             "outlinewidth": 0,
             "ticks": ""
            },
            "type": "choropleth"
           }
          ],
          "contour": [
           {
            "colorbar": {
             "outlinewidth": 0,
             "ticks": ""
            },
            "colorscale": [
             [
              0,
              "#0d0887"
             ],
             [
              0.1111111111111111,
              "#46039f"
             ],
             [
              0.2222222222222222,
              "#7201a8"
             ],
             [
              0.3333333333333333,
              "#9c179e"
             ],
             [
              0.4444444444444444,
              "#bd3786"
             ],
             [
              0.5555555555555556,
              "#d8576b"
             ],
             [
              0.6666666666666666,
              "#ed7953"
             ],
             [
              0.7777777777777778,
              "#fb9f3a"
             ],
             [
              0.8888888888888888,
              "#fdca26"
             ],
             [
              1,
              "#f0f921"
             ]
            ],
            "type": "contour"
           }
          ],
          "contourcarpet": [
           {
            "colorbar": {
             "outlinewidth": 0,
             "ticks": ""
            },
            "type": "contourcarpet"
           }
          ],
          "heatmap": [
           {
            "colorbar": {
             "outlinewidth": 0,
             "ticks": ""
            },
            "colorscale": [
             [
              0,
              "#0d0887"
             ],
             [
              0.1111111111111111,
              "#46039f"
             ],
             [
              0.2222222222222222,
              "#7201a8"
             ],
             [
              0.3333333333333333,
              "#9c179e"
             ],
             [
              0.4444444444444444,
              "#bd3786"
             ],
             [
              0.5555555555555556,
              "#d8576b"
             ],
             [
              0.6666666666666666,
              "#ed7953"
             ],
             [
              0.7777777777777778,
              "#fb9f3a"
             ],
             [
              0.8888888888888888,
              "#fdca26"
             ],
             [
              1,
              "#f0f921"
             ]
            ],
            "type": "heatmap"
           }
          ],
          "heatmapgl": [
           {
            "colorbar": {
             "outlinewidth": 0,
             "ticks": ""
            },
            "colorscale": [
             [
              0,
              "#0d0887"
             ],
             [
              0.1111111111111111,
              "#46039f"
             ],
             [
              0.2222222222222222,
              "#7201a8"
             ],
             [
              0.3333333333333333,
              "#9c179e"
             ],
             [
              0.4444444444444444,
              "#bd3786"
             ],
             [
              0.5555555555555556,
              "#d8576b"
             ],
             [
              0.6666666666666666,
              "#ed7953"
             ],
             [
              0.7777777777777778,
              "#fb9f3a"
             ],
             [
              0.8888888888888888,
              "#fdca26"
             ],
             [
              1,
              "#f0f921"
             ]
            ],
            "type": "heatmapgl"
           }
          ],
          "histogram": [
           {
            "marker": {
             "pattern": {
              "fillmode": "overlay",
              "size": 10,
              "solidity": 0.2
             }
            },
            "type": "histogram"
           }
          ],
          "histogram2d": [
           {
            "colorbar": {
             "outlinewidth": 0,
             "ticks": ""
            },
            "colorscale": [
             [
              0,
              "#0d0887"
             ],
             [
              0.1111111111111111,
              "#46039f"
             ],
             [
              0.2222222222222222,
              "#7201a8"
             ],
             [
              0.3333333333333333,
              "#9c179e"
             ],
             [
              0.4444444444444444,
              "#bd3786"
             ],
             [
              0.5555555555555556,
              "#d8576b"
             ],
             [
              0.6666666666666666,
              "#ed7953"
             ],
             [
              0.7777777777777778,
              "#fb9f3a"
             ],
             [
              0.8888888888888888,
              "#fdca26"
             ],
             [
              1,
              "#f0f921"
             ]
            ],
            "type": "histogram2d"
           }
          ],
          "histogram2dcontour": [
           {
            "colorbar": {
             "outlinewidth": 0,
             "ticks": ""
            },
            "colorscale": [
             [
              0,
              "#0d0887"
             ],
             [
              0.1111111111111111,
              "#46039f"
             ],
             [
              0.2222222222222222,
              "#7201a8"
             ],
             [
              0.3333333333333333,
              "#9c179e"
             ],
             [
              0.4444444444444444,
              "#bd3786"
             ],
             [
              0.5555555555555556,
              "#d8576b"
             ],
             [
              0.6666666666666666,
              "#ed7953"
             ],
             [
              0.7777777777777778,
              "#fb9f3a"
             ],
             [
              0.8888888888888888,
              "#fdca26"
             ],
             [
              1,
              "#f0f921"
             ]
            ],
            "type": "histogram2dcontour"
           }
          ],
          "mesh3d": [
           {
            "colorbar": {
             "outlinewidth": 0,
             "ticks": ""
            },
            "type": "mesh3d"
           }
          ],
          "parcoords": [
           {
            "line": {
             "colorbar": {
              "outlinewidth": 0,
              "ticks": ""
             }
            },
            "type": "parcoords"
           }
          ],
          "pie": [
           {
            "automargin": true,
            "type": "pie"
           }
          ],
          "scatter": [
           {
            "fillpattern": {
             "fillmode": "overlay",
             "size": 10,
             "solidity": 0.2
            },
            "type": "scatter"
           }
          ],
          "scatter3d": [
           {
            "line": {
             "colorbar": {
              "outlinewidth": 0,
              "ticks": ""
             }
            },
            "marker": {
             "colorbar": {
              "outlinewidth": 0,
              "ticks": ""
             }
            },
            "type": "scatter3d"
           }
          ],
          "scattercarpet": [
           {
            "marker": {
             "colorbar": {
              "outlinewidth": 0,
              "ticks": ""
             }
            },
            "type": "scattercarpet"
           }
          ],
          "scattergeo": [
           {
            "marker": {
             "colorbar": {
              "outlinewidth": 0,
              "ticks": ""
             }
            },
            "type": "scattergeo"
           }
          ],
          "scattergl": [
           {
            "marker": {
             "colorbar": {
              "outlinewidth": 0,
              "ticks": ""
             }
            },
            "type": "scattergl"
           }
          ],
          "scattermapbox": [
           {
            "marker": {
             "colorbar": {
              "outlinewidth": 0,
              "ticks": ""
             }
            },
            "type": "scattermapbox"
           }
          ],
          "scatterpolar": [
           {
            "marker": {
             "colorbar": {
              "outlinewidth": 0,
              "ticks": ""
             }
            },
            "type": "scatterpolar"
           }
          ],
          "scatterpolargl": [
           {
            "marker": {
             "colorbar": {
              "outlinewidth": 0,
              "ticks": ""
             }
            },
            "type": "scatterpolargl"
           }
          ],
          "scatterternary": [
           {
            "marker": {
             "colorbar": {
              "outlinewidth": 0,
              "ticks": ""
             }
            },
            "type": "scatterternary"
           }
          ],
          "surface": [
           {
            "colorbar": {
             "outlinewidth": 0,
             "ticks": ""
            },
            "colorscale": [
             [
              0,
              "#0d0887"
             ],
             [
              0.1111111111111111,
              "#46039f"
             ],
             [
              0.2222222222222222,
              "#7201a8"
             ],
             [
              0.3333333333333333,
              "#9c179e"
             ],
             [
              0.4444444444444444,
              "#bd3786"
             ],
             [
              0.5555555555555556,
              "#d8576b"
             ],
             [
              0.6666666666666666,
              "#ed7953"
             ],
             [
              0.7777777777777778,
              "#fb9f3a"
             ],
             [
              0.8888888888888888,
              "#fdca26"
             ],
             [
              1,
              "#f0f921"
             ]
            ],
            "type": "surface"
           }
          ],
          "table": [
           {
            "cells": {
             "fill": {
              "color": "#EBF0F8"
             },
             "line": {
              "color": "white"
             }
            },
            "header": {
             "fill": {
              "color": "#C8D4E3"
             },
             "line": {
              "color": "white"
             }
            },
            "type": "table"
           }
          ]
         },
         "layout": {
          "annotationdefaults": {
           "arrowcolor": "#2a3f5f",
           "arrowhead": 0,
           "arrowwidth": 1
          },
          "autotypenumbers": "strict",
          "coloraxis": {
           "colorbar": {
            "outlinewidth": 0,
            "ticks": ""
           }
          },
          "colorscale": {
           "diverging": [
            [
             0,
             "#8e0152"
            ],
            [
             0.1,
             "#c51b7d"
            ],
            [
             0.2,
             "#de77ae"
            ],
            [
             0.3,
             "#f1b6da"
            ],
            [
             0.4,
             "#fde0ef"
            ],
            [
             0.5,
             "#f7f7f7"
            ],
            [
             0.6,
             "#e6f5d0"
            ],
            [
             0.7,
             "#b8e186"
            ],
            [
             0.8,
             "#7fbc41"
            ],
            [
             0.9,
             "#4d9221"
            ],
            [
             1,
             "#276419"
            ]
           ],
           "sequential": [
            [
             0,
             "#0d0887"
            ],
            [
             0.1111111111111111,
             "#46039f"
            ],
            [
             0.2222222222222222,
             "#7201a8"
            ],
            [
             0.3333333333333333,
             "#9c179e"
            ],
            [
             0.4444444444444444,
             "#bd3786"
            ],
            [
             0.5555555555555556,
             "#d8576b"
            ],
            [
             0.6666666666666666,
             "#ed7953"
            ],
            [
             0.7777777777777778,
             "#fb9f3a"
            ],
            [
             0.8888888888888888,
             "#fdca26"
            ],
            [
             1,
             "#f0f921"
            ]
           ],
           "sequentialminus": [
            [
             0,
             "#0d0887"
            ],
            [
             0.1111111111111111,
             "#46039f"
            ],
            [
             0.2222222222222222,
             "#7201a8"
            ],
            [
             0.3333333333333333,
             "#9c179e"
            ],
            [
             0.4444444444444444,
             "#bd3786"
            ],
            [
             0.5555555555555556,
             "#d8576b"
            ],
            [
             0.6666666666666666,
             "#ed7953"
            ],
            [
             0.7777777777777778,
             "#fb9f3a"
            ],
            [
             0.8888888888888888,
             "#fdca26"
            ],
            [
             1,
             "#f0f921"
            ]
           ]
          },
          "colorway": [
           "#636efa",
           "#EF553B",
           "#00cc96",
           "#ab63fa",
           "#FFA15A",
           "#19d3f3",
           "#FF6692",
           "#B6E880",
           "#FF97FF",
           "#FECB52"
          ],
          "font": {
           "color": "#2a3f5f"
          },
          "geo": {
           "bgcolor": "white",
           "lakecolor": "white",
           "landcolor": "#E5ECF6",
           "showlakes": true,
           "showland": true,
           "subunitcolor": "white"
          },
          "hoverlabel": {
           "align": "left"
          },
          "hovermode": "closest",
          "mapbox": {
           "style": "light"
          },
          "paper_bgcolor": "white",
          "plot_bgcolor": "#E5ECF6",
          "polar": {
           "angularaxis": {
            "gridcolor": "white",
            "linecolor": "white",
            "ticks": ""
           },
           "bgcolor": "#E5ECF6",
           "radialaxis": {
            "gridcolor": "white",
            "linecolor": "white",
            "ticks": ""
           }
          },
          "scene": {
           "xaxis": {
            "backgroundcolor": "#E5ECF6",
            "gridcolor": "white",
            "gridwidth": 2,
            "linecolor": "white",
            "showbackground": true,
            "ticks": "",
            "zerolinecolor": "white"
           },
           "yaxis": {
            "backgroundcolor": "#E5ECF6",
            "gridcolor": "white",
            "gridwidth": 2,
            "linecolor": "white",
            "showbackground": true,
            "ticks": "",
            "zerolinecolor": "white"
           },
           "zaxis": {
            "backgroundcolor": "#E5ECF6",
            "gridcolor": "white",
            "gridwidth": 2,
            "linecolor": "white",
            "showbackground": true,
            "ticks": "",
            "zerolinecolor": "white"
           }
          },
          "shapedefaults": {
           "line": {
            "color": "#2a3f5f"
           }
          },
          "ternary": {
           "aaxis": {
            "gridcolor": "white",
            "linecolor": "white",
            "ticks": ""
           },
           "baxis": {
            "gridcolor": "white",
            "linecolor": "white",
            "ticks": ""
           },
           "bgcolor": "#E5ECF6",
           "caxis": {
            "gridcolor": "white",
            "linecolor": "white",
            "ticks": ""
           }
          },
          "title": {
           "x": 0.05
          },
          "xaxis": {
           "automargin": true,
           "gridcolor": "white",
           "linecolor": "white",
           "ticks": "",
           "title": {
            "standoff": 15
           },
           "zerolinecolor": "white",
           "zerolinewidth": 2
          },
          "yaxis": {
           "automargin": true,
           "gridcolor": "white",
           "linecolor": "white",
           "ticks": "",
           "title": {
            "standoff": 15
           },
           "zerolinecolor": "white",
           "zerolinewidth": 2
          }
         }
        },
        "xaxis": {
         "anchor": "y",
         "autorange": true,
         "domain": [
          0,
          1
         ],
         "range": [
          -0.5,
          3.5
         ],
         "title": {
          "text": "variable"
         },
         "type": "category"
        },
        "yaxis": {
         "anchor": "x",
         "autorange": true,
         "domain": [
          0,
          1
         ],
         "range": [
          -16.466666666666665,
          312.8666666666666
         ],
         "title": {
          "text": "value"
         },
         "type": "linear"
        }
       }
      },
      "image/png": "[encoded data removed]",
      "text/html": [
       "<div>                            <div id=\"bc1612de-9796-44d2-9967-24171461394b\" class=\"plotly-graph-div\" style=\"height:525px; width:100%;\"></div>            <script type=\"text/javascript\">                require([\"plotly\"], function(Plotly) {                    window.PLOTLYENV=window.PLOTLYENV || {};                                    if (document.getElementById(\"bc1612de-9796-44d2-9967-24171461394b\")) {                    Plotly.newPlot(                        \"bc1612de-9796-44d2-9967-24171461394b\",                        [{\"alignmentgroup\":\"True\",\"hovertemplate\":\"variable=%{x}<br>value=%{y}<extra></extra>\",\"legendgroup\":\"\",\"marker\":{\"color\":\"#636efa\"},\"name\":\"\",\"notched\":false,\"offsetgroup\":\"\",\"orientation\":\"v\",\"showlegend\":false,\"x\":[\"TV\",\"TV\",\"TV\",\"TV\",\"TV\",\"TV\",\"TV\",\"TV\",\"TV\",\"TV\",\"TV\",\"TV\",\"TV\",\"TV\",\"TV\",\"TV\",\"TV\",\"TV\",\"TV\",\"TV\",\"TV\",\"TV\",\"TV\",\"TV\",\"TV\",\"TV\",\"TV\",\"TV\",\"TV\",\"TV\",\"TV\",\"TV\",\"TV\",\"TV\",\"TV\",\"TV\",\"TV\",\"TV\",\"TV\",\"TV\",\"TV\",\"TV\",\"TV\",\"TV\",\"TV\",\"TV\",\"TV\",\"TV\",\"TV\",\"TV\",\"TV\",\"TV\",\"TV\",\"TV\",\"TV\",\"TV\",\"TV\",\"TV\",\"TV\",\"TV\",\"TV\",\"TV\",\"TV\",\"TV\",\"TV\",\"TV\",\"TV\",\"TV\",\"TV\",\"TV\",\"TV\",\"TV\",\"TV\",\"TV\",\"TV\",\"TV\",\"TV\",\"TV\",\"TV\",\"TV\",\"TV\",\"TV\",\"TV\",\"TV\",\"TV\",\"TV\",\"TV\",\"TV\",\"TV\",\"TV\",\"TV\",\"TV\",\"TV\",\"TV\",\"TV\",\"TV\",\"TV\",\"TV\",\"TV\",\"TV\",\"TV\",\"TV\",\"TV\",\"TV\",\"TV\",\"TV\",\"TV\",\"TV\",\"TV\",\"TV\",\"TV\",\"TV\",\"TV\",\"TV\",\"TV\",\"TV\",\"TV\",\"TV\",\"TV\",\"TV\",\"TV\",\"TV\",\"TV\",\"TV\",\"TV\",\"TV\",\"TV\",\"TV\",\"TV\",\"TV\",\"TV\",\"TV\",\"TV\",\"TV\",\"TV\",\"TV\",\"TV\",\"TV\",\"TV\",\"TV\",\"TV\",\"TV\",\"TV\",\"TV\",\"TV\",\"TV\",\"TV\",\"TV\",\"TV\",\"TV\",\"TV\",\"TV\",\"TV\",\"TV\",\"TV\",\"TV\",\"TV\",\"TV\",\"TV\",\"TV\",\"TV\",\"TV\",\"TV\",\"TV\",\"TV\",\"TV\",\"TV\",\"TV\",\"TV\",\"TV\",\"TV\",\"TV\",\"TV\",\"TV\",\"TV\",\"TV\",\"TV\",\"TV\",\"TV\",\"TV\",\"TV\",\"TV\",\"TV\",\"TV\",\"TV\",\"TV\",\"TV\",\"TV\",\"TV\",\"TV\",\"TV\",\"TV\",\"TV\",\"TV\",\"TV\",\"TV\",\"TV\",\"TV\",\"TV\",\"TV\",\"radio\",\"radio\",\"radio\",\"radio\",\"radio\",\"radio\",\"radio\",\"radio\",\"radio\",\"radio\",\"radio\",\"radio\",\"radio\",\"radio\",\"radio\",\"radio\",\"radio\",\"radio\",\"radio\",\"radio\",\"radio\",\"radio\",\"radio\",\"radio\",\"radio\",\"radio\",\"radio\",\"radio\",\"radio\",\"radio\",\"radio\",\"radio\",\"radio\",\"radio\",\"radio\",\"radio\",\"radio\",\"radio\",\"radio\",\"radio\",\"radio\",\"radio\",\"radio\",\"radio\",\"radio\",\"radio\",\"radio\",\"radio\",\"radio\",\"radio\",\"radio\",\"radio\",\"radio\",\"radio\",\"radio\",\"radio\",\"radio\",\"radio\",\"radio\",\"radio\",\"radio\",\"radio\",\"radio\",\"radio\",\"radio\",\"radio\",\"radio\",\"radio\",\"radio\",\"radio\",\"radio\",\"radio\",\"radio\",\"radio\",\"radio\",\"radio\",\"radio\",\"radio\",\"radio\",\"radio\",\"radio\",\"radio\",\"radio\",\"radio\",\"radio\",\"radio\",\"radio\",\"radio\",\"radio\",\"radio\",\"radio\",\"radio\",\"radio\",\"radio\",\"radio\",\"radio\",\"radio\",\"radio\",\"radio\",\"radio\",\"radio\",\"radio\",\"radio\",\"radio\",\"radio\",\"radio\",\"radio\",\"radio\",\"radio\",\"radio\",\"radio\",\"radio\",\"radio\",\"radio\",\"radio\",\"radio\",\"radio\",\"radio\",\"radio\",\"radio\",\"radio\",\"radio\",\"radio\",\"radio\",\"radio\",\"radio\",\"radio\",\"radio\",\"radio\",\"radio\",\"radio\",\"radio\",\"radio\",\"radio\",\"radio\",\"radio\",\"radio\",\"radio\",\"radio\",\"radio\",\"radio\",\"radio\",\"radio\",\"radio\",\"radio\",\"radio\",\"radio\",\"radio\",\"radio\",\"radio\",\"radio\",\"radio\",\"radio\",\"radio\",\"radio\",\"radio\",\"radio\",\"radio\",\"radio\",\"radio\",\"radio\",\"radio\",\"radio\",\"radio\",\"radio\",\"radio\",\"radio\",\"radio\",\"radio\",\"radio\",\"radio\",\"radio\",\"radio\",\"radio\",\"radio\",\"radio\",\"radio\",\"radio\",\"radio\",\"radio\",\"radio\",\"radio\",\"radio\",\"radio\",\"radio\",\"radio\",\"radio\",\"radio\",\"radio\",\"radio\",\"radio\",\"radio\",\"radio\",\"radio\",\"radio\",\"radio\",\"radio\",\"radio\",\"radio\",\"radio\",\"newspaper\",\"newspaper\",\"newspaper\",\"newspaper\",\"newspaper\",\"newspaper\",\"newspaper\",\"newspaper\",\"newspaper\",\"newspaper\",\"newspaper\",\"newspaper\",\"newspaper\",\"newspaper\",\"newspaper\",\"newspaper\",\"newspaper\",\"newspaper\",\"newspaper\",\"newspaper\",\"newspaper\",\"newspaper\",\"newspaper\",\"newspaper\",\"newspaper\",\"newspaper\",\"newspaper\",\"newspaper\",\"newspaper\",\"newspaper\",\"newspaper\",\"newspaper\",\"newspaper\",\"newspaper\",\"newspaper\",\"newspaper\",\"newspaper\",\"newspaper\",\"newspaper\",\"newspaper\",\"newspaper\",\"newspaper\",\"newspaper\",\"newspaper\",\"newspaper\",\"newspaper\",\"newspaper\",\"newspaper\",\"newspaper\",\"newspaper\",\"newspaper\",\"newspaper\",\"newspaper\",\"newspaper\",\"newspaper\",\"newspaper\",\"newspaper\",\"newspaper\",\"newspaper\",\"newspaper\",\"newspaper\",\"newspaper\",\"newspaper\",\"newspaper\",\"newspaper\",\"newspaper\",\"newspaper\",\"newspaper\",\"newspaper\",\"newspaper\",\"newspaper\",\"newspaper\",\"newspaper\",\"newspaper\",\"newspaper\",\"newspaper\",\"newspaper\",\"newspaper\",\"newspaper\",\"newspaper\",\"newspaper\",\"newspaper\",\"newspaper\",\"newspaper\",\"newspaper\",\"newspaper\",\"newspaper\",\"newspaper\",\"newspaper\",\"newspaper\",\"newspaper\",\"newspaper\",\"newspaper\",\"newspaper\",\"newspaper\",\"newspaper\",\"newspaper\",\"newspaper\",\"newspaper\",\"newspaper\",\"newspaper\",\"newspaper\",\"newspaper\",\"newspaper\",\"newspaper\",\"newspaper\",\"newspaper\",\"newspaper\",\"newspaper\",\"newspaper\",\"newspaper\",\"newspaper\",\"newspaper\",\"newspaper\",\"newspaper\",\"newspaper\",\"newspaper\",\"newspaper\",\"newspaper\",\"newspaper\",\"newspaper\",\"newspaper\",\"newspaper\",\"newspaper\",\"newspaper\",\"newspaper\",\"newspaper\",\"newspaper\",\"newspaper\",\"newspaper\",\"newspaper\",\"newspaper\",\"newspaper\",\"newspaper\",\"newspaper\",\"newspaper\",\"newspaper\",\"newspaper\",\"newspaper\",\"newspaper\",\"newspaper\",\"newspaper\",\"newspaper\",\"newspaper\",\"newspaper\",\"newspaper\",\"newspaper\",\"newspaper\",\"newspaper\",\"newspaper\",\"newspaper\",\"newspaper\",\"newspaper\",\"newspaper\",\"newspaper\",\"newspaper\",\"newspaper\",\"newspaper\",\"newspaper\",\"newspaper\",\"newspaper\",\"newspaper\",\"newspaper\",\"newspaper\",\"newspaper\",\"newspaper\",\"newspaper\",\"newspaper\",\"newspaper\",\"newspaper\",\"newspaper\",\"newspaper\",\"newspaper\",\"newspaper\",\"newspaper\",\"newspaper\",\"newspaper\",\"newspaper\",\"newspaper\",\"newspaper\",\"newspaper\",\"newspaper\",\"newspaper\",\"newspaper\",\"newspaper\",\"newspaper\",\"newspaper\",\"newspaper\",\"newspaper\",\"newspaper\",\"newspaper\",\"newspaper\",\"newspaper\",\"newspaper\",\"newspaper\",\"newspaper\",\"newspaper\",\"newspaper\",\"newspaper\",\"newspaper\",\"sales\",\"sales\",\"sales\",\"sales\",\"sales\",\"sales\",\"sales\",\"sales\",\"sales\",\"sales\",\"sales\",\"sales\",\"sales\",\"sales\",\"sales\",\"sales\",\"sales\",\"sales\",\"sales\",\"sales\",\"sales\",\"sales\",\"sales\",\"sales\",\"sales\",\"sales\",\"sales\",\"sales\",\"sales\",\"sales\",\"sales\",\"sales\",\"sales\",\"sales\",\"sales\",\"sales\",\"sales\",\"sales\",\"sales\",\"sales\",\"sales\",\"sales\",\"sales\",\"sales\",\"sales\",\"sales\",\"sales\",\"sales\",\"sales\",\"sales\",\"sales\",\"sales\",\"sales\",\"sales\",\"sales\",\"sales\",\"sales\",\"sales\",\"sales\",\"sales\",\"sales\",\"sales\",\"sales\",\"sales\",\"sales\",\"sales\",\"sales\",\"sales\",\"sales\",\"sales\",\"sales\",\"sales\",\"sales\",\"sales\",\"sales\",\"sales\",\"sales\",\"sales\",\"sales\",\"sales\",\"sales\",\"sales\",\"sales\",\"sales\",\"sales\",\"sales\",\"sales\",\"sales\",\"sales\",\"sales\",\"sales\",\"sales\",\"sales\",\"sales\",\"sales\",\"sales\",\"sales\",\"sales\",\"sales\",\"sales\",\"sales\",\"sales\",\"sales\",\"sales\",\"sales\",\"sales\",\"sales\",\"sales\",\"sales\",\"sales\",\"sales\",\"sales\",\"sales\",\"sales\",\"sales\",\"sales\",\"sales\",\"sales\",\"sales\",\"sales\",\"sales\",\"sales\",\"sales\",\"sales\",\"sales\",\"sales\",\"sales\",\"sales\",\"sales\",\"sales\",\"sales\",\"sales\",\"sales\",\"sales\",\"sales\",\"sales\",\"sales\",\"sales\",\"sales\",\"sales\",\"sales\",\"sales\",\"sales\",\"sales\",\"sales\",\"sales\",\"sales\",\"sales\",\"sales\",\"sales\",\"sales\",\"sales\",\"sales\",\"sales\",\"sales\",\"sales\",\"sales\",\"sales\",\"sales\",\"sales\",\"sales\",\"sales\",\"sales\",\"sales\",\"sales\",\"sales\",\"sales\",\"sales\",\"sales\",\"sales\",\"sales\",\"sales\",\"sales\",\"sales\",\"sales\",\"sales\",\"sales\",\"sales\",\"sales\",\"sales\",\"sales\",\"sales\",\"sales\",\"sales\",\"sales\",\"sales\",\"sales\",\"sales\",\"sales\",\"sales\",\"sales\",\"sales\",\"sales\",\"sales\",\"sales\",\"sales\",\"sales\",\"sales\",\"sales\",\"sales\"],\"x0\":\" \",\"xaxis\":\"x\",\"y\":[230.1,44.5,17.2,151.5,180.8,8.7,57.5,120.2,8.6,199.8,66.1,214.7,23.8,97.5,204.1,195.4,67.8,281.4,69.2,147.3,218.4,237.4,13.2,228.3,62.3,262.9,142.9,240.1,248.8,70.6,292.9,112.9,97.2,265.6,95.7,290.7,266.9,74.7,43.1,228.0,202.5,177.0,293.6,206.9,25.1,175.1,89.7,239.9,227.2,66.9,199.8,100.4,216.4,182.6,262.7,198.9,7.3,136.2,210.8,210.7,53.5,261.3,239.3,102.7,131.1,69.0,31.5,139.3,237.4,216.8,199.1,109.8,26.8,129.4,213.4,16.9,27.5,120.5,5.4,116.0,76.4,239.8,75.3,68.4,213.5,193.2,76.3,110.7,88.3,109.8,134.3,28.6,217.7,250.9,107.4,163.3,197.6,184.9,289.7,135.2,222.4,296.4,280.2,187.9,238.2,137.9,25.0,90.4,13.1,255.4,225.8,241.7,175.7,209.6,78.2,75.1,139.2,76.4,125.7,19.4,141.3,18.8,224.0,123.1,229.5,87.2,7.8,80.2,220.3,59.6,0.7,265.2,8.4,219.8,36.9,48.3,25.6,273.7,43.0,184.9,73.4,193.7,220.5,104.6,96.2,140.3,240.1,243.2,38.0,44.7,280.7,121.0,197.6,171.3,187.8,4.1,93.9,149.8,11.7,131.7,172.5,85.7,188.4,163.5,117.2,234.5,17.9,206.8,215.4,284.3,50.0,164.5,19.6,168.4,222.4,276.9,248.4,170.2,276.7,165.6,156.6,218.5,56.2,287.6,253.8,205.0,139.5,191.1,286.0,18.7,39.5,75.5,17.2,166.8,149.7,38.2,94.2,177.0,283.6,232.1,37.8,39.3,45.9,41.3,10.8,48.9,32.8,19.6,2.1,2.6,5.8,24.0,35.1,7.6,32.9,47.7,36.6,39.6,20.5,23.9,27.7,5.1,15.9,16.9,12.6,3.5,29.3,16.7,27.1,16.0,28.3,17.4,1.5,20.0,1.4,4.1,43.8,49.4,26.7,37.7,22.3,33.4,27.7,8.4,25.7,22.5,9.9,41.5,15.8,11.7,3.1,9.6,41.7,46.2,28.8,49.4,28.1,19.2,49.6,29.5,2.0,42.7,15.5,29.6,42.8,9.3,24.6,14.5,27.5,43.9,30.6,14.3,33.0,5.7,24.6,43.7,1.6,28.5,29.9,7.7,26.7,4.1,20.3,44.5,43.0,18.4,27.5,40.6,25.5,47.8,4.9,1.5,33.5,36.5,14.0,31.6,3.5,21.0,42.3,41.7,4.3,36.3,10.1,17.2,34.3,46.4,11.0,0.3,0.4,26.9,8.2,38.0,15.4,20.6,46.8,35.0,14.3,0.8,36.9,16.0,26.8,21.7,2.4,34.6,32.3,11.8,38.9,0.0,49.0,12.0,39.6,2.9,27.2,33.5,38.6,47.0,39.0,28.9,25.9,43.9,17.0,35.4,33.2,5.7,14.8,1.9,7.3,49.0,40.3,25.8,13.9,8.4,23.3,39.7,21.1,11.6,43.5,1.3,36.9,18.4,18.1,35.8,18.1,36.8,14.7,3.4,37.6,5.2,23.6,10.6,11.6,20.9,20.1,7.1,3.4,48.9,30.2,7.8,2.3,10.0,2.6,5.4,5.7,43.0,21.3,45.1,2.1,28.7,13.9,12.1,41.1,10.8,4.1,42.0,35.6,3.7,4.9,9.3,42.0,8.6,69.2,45.1,69.3,58.5,58.4,75.0,23.5,11.6,1.0,21.2,24.2,4.0,65.9,7.2,46.0,52.9,114.0,55.8,18.3,19.1,53.4,23.5,49.6,26.2,18.3,19.5,12.6,22.9,22.9,40.8,43.2,38.6,30.0,0.3,7.4,8.5,5.0,45.7,35.1,32.0,31.6,38.7,1.8,26.4,43.3,31.5,35.7,18.5,49.9,36.8,34.6,3.6,39.6,58.7,15.9,60.0,41.4,16.6,37.7,9.3,21.4,54.7,27.3,8.4,28.9,0.9,2.2,10.2,11.0,27.2,38.7,31.7,19.3,31.3,13.1,89.4,20.7,14.2,9.4,23.1,22.3,36.9,32.5,35.6,33.8,65.7,16.0,63.2,73.4,51.4,9.3,33.0,59.0,72.3,10.9,52.9,5.9,22.0,51.2,45.9,49.8,100.9,21.4,17.9,5.3,59.0,29.7,23.2,25.6,5.5,56.5,23.2,2.4,10.7,34.5,52.7,25.6,14.8,79.2,22.3,46.2,50.4,15.6,12.4,74.2,25.9,50.6,9.2,3.2,43.1,8.7,43.0,2.1,45.1,65.6,8.5,9.3,59.7,20.5,1.7,12.9,75.6,37.9,34.4,38.9,9.0,8.7,44.3,11.9,20.6,37.0,48.7,14.2,37.7,9.5,5.7,50.5,24.3,45.2,34.6,30.7,49.3,25.6,7.4,5.4,84.8,21.6,19.4,57.6,6.4,18.4,47.4,17.0,12.8,13.1,41.8,20.3,35.2,23.7,17.6,8.3,27.4,29.7,71.8,30.0,19.6,26.6,18.2,3.7,23.4,5.8,6.0,31.6,3.6,6.0,13.8,8.1,6.4,66.2,8.7,22.1,10.4,9.3,18.5,12.9,7.2,11.8,13.2,4.8,10.6,8.6,17.4,9.2,9.7,19.0,22.4,12.5,24.4,11.3,14.6,18.0,12.5,5.6,15.5,9.7,12.0,15.0,15.9,18.9,10.5,21.4,11.9,9.6,17.4,9.5,12.8,25.4,14.7,10.1,21.5,16.6,17.1,20.7,12.9,8.5,14.9,10.6,23.2,14.8,9.7,11.4,10.7,22.6,21.2,20.2,23.7,5.5,13.2,23.8,18.4,8.1,24.2,15.7,14.0,18.0,9.3,9.5,13.4,18.9,22.3,18.3,12.4,8.8,11.0,17.0,8.7,6.9,14.2,5.3,11.0,11.8,12.3,11.3,13.6,21.7,15.2,12.0,16.0,12.9,16.7,11.2,7.3,19.4,22.2,11.5,16.9,11.7,15.5,25.4,17.2,11.7,23.8,14.8,14.7,20.7,19.2,7.2,8.7,5.3,19.8,13.4,21.8,14.1,15.9,14.6,12.6,12.2,9.4,15.9,6.6,15.5,7.0,11.6,15.2,19.7,10.6,6.6,8.8,24.7,9.7,1.6,12.7,5.7,19.6,10.8,11.6,9.5,20.8,9.6,20.7,10.9,19.2,20.1,10.4,11.4,10.3,13.2,25.4,10.9,10.1,16.1,11.6,16.6,19.0,15.6,3.2,15.3,10.1,7.3,12.9,14.4,13.3,14.9,18.0,11.9,11.9,8.0,12.2,17.1,15.0,8.4,14.5,7.6,11.7,11.5,27.0,20.2,11.7,11.8,12.6,10.5,12.2,8.7,26.2,17.6,22.6,10.3,17.3,15.9,6.7,10.8,9.9,5.9,19.6,17.3,7.6,9.7,12.8,25.5,13.4],\"y0\":\" \",\"yaxis\":\"y\",\"type\":\"box\"}],                        {\"template\":{\"data\":{\"histogram2dcontour\":[{\"type\":\"histogram2dcontour\",\"colorbar\":{\"outlinewidth\":0,\"ticks\":\"\"},\"colorscale\":[[0.0,\"#0d0887\"],[0.1111111111111111,\"#46039f\"],[0.2222222222222222,\"#7201a8\"],[0.3333333333333333,\"#9c179e\"],[0.4444444444444444,\"#bd3786\"],[0.5555555555555556,\"#d8576b\"],[0.6666666666666666,\"#ed7953\"],[0.7777777777777778,\"#fb9f3a\"],[0.8888888888888888,\"#fdca26\"],[1.0,\"#f0f921\"]]}],\"choropleth\":[{\"type\":\"choropleth\",\"colorbar\":{\"outlinewidth\":0,\"ticks\":\"\"}}],\"histogram2d\":[{\"type\":\"histogram2d\",\"colorbar\":{\"outlinewidth\":0,\"ticks\":\"\"},\"colorscale\":[[0.0,\"#0d0887\"],[0.1111111111111111,\"#46039f\"],[0.2222222222222222,\"#7201a8\"],[0.3333333333333333,\"#9c179e\"],[0.4444444444444444,\"#bd3786\"],[0.5555555555555556,\"#d8576b\"],[0.6666666666666666,\"#ed7953\"],[0.7777777777777778,\"#fb9f3a\"],[0.8888888888888888,\"#fdca26\"],[1.0,\"#f0f921\"]]}],\"heatmap\":[{\"type\":\"heatmap\",\"colorbar\":{\"outlinewidth\":0,\"ticks\":\"\"},\"colorscale\":[[0.0,\"#0d0887\"],[0.1111111111111111,\"#46039f\"],[0.2222222222222222,\"#7201a8\"],[0.3333333333333333,\"#9c179e\"],[0.4444444444444444,\"#bd3786\"],[0.5555555555555556,\"#d8576b\"],[0.6666666666666666,\"#ed7953\"],[0.7777777777777778,\"#fb9f3a\"],[0.8888888888888888,\"#fdca26\"],[1.0,\"#f0f921\"]]}],\"heatmapgl\":[{\"type\":\"heatmapgl\",\"colorbar\":{\"outlinewidth\":0,\"ticks\":\"\"},\"colorscale\":[[0.0,\"#0d0887\"],[0.1111111111111111,\"#46039f\"],[0.2222222222222222,\"#7201a8\"],[0.3333333333333333,\"#9c179e\"],[0.4444444444444444,\"#bd3786\"],[0.5555555555555556,\"#d8576b\"],[0.6666666666666666,\"#ed7953\"],[0.7777777777777778,\"#fb9f3a\"],[0.8888888888888888,\"#fdca26\"],[1.0,\"#f0f921\"]]}],\"contourcarpet\":[{\"type\":\"contourcarpet\",\"colorbar\":{\"outlinewidth\":0,\"ticks\":\"\"}}],\"contour\":[{\"type\":\"contour\",\"colorbar\":{\"outlinewidth\":0,\"ticks\":\"\"},\"colorscale\":[[0.0,\"#0d0887\"],[0.1111111111111111,\"#46039f\"],[0.2222222222222222,\"#7201a8\"],[0.3333333333333333,\"#9c179e\"],[0.4444444444444444,\"#bd3786\"],[0.5555555555555556,\"#d8576b\"],[0.6666666666666666,\"#ed7953\"],[0.7777777777777778,\"#fb9f3a\"],[0.8888888888888888,\"#fdca26\"],[1.0,\"#f0f921\"]]}],\"surface\":[{\"type\":\"surface\",\"colorbar\":{\"outlinewidth\":0,\"ticks\":\"\"},\"colorscale\":[[0.0,\"#0d0887\"],[0.1111111111111111,\"#46039f\"],[0.2222222222222222,\"#7201a8\"],[0.3333333333333333,\"#9c179e\"],[0.4444444444444444,\"#bd3786\"],[0.5555555555555556,\"#d8576b\"],[0.6666666666666666,\"#ed7953\"],[0.7777777777777778,\"#fb9f3a\"],[0.8888888888888888,\"#fdca26\"],[1.0,\"#f0f921\"]]}],\"mesh3d\":[{\"type\":\"mesh3d\",\"colorbar\":{\"outlinewidth\":0,\"ticks\":\"\"}}],\"scatter\":[{\"fillpattern\":{\"fillmode\":\"overlay\",\"size\":10,\"solidity\":0.2},\"type\":\"scatter\"}],\"parcoords\":[{\"type\":\"parcoords\",\"line\":{\"colorbar\":{\"outlinewidth\":0,\"ticks\":\"\"}}}],\"scatterpolargl\":[{\"type\":\"scatterpolargl\",\"marker\":{\"colorbar\":{\"outlinewidth\":0,\"ticks\":\"\"}}}],\"bar\":[{\"error_x\":{\"color\":\"#2a3f5f\"},\"error_y\":{\"color\":\"#2a3f5f\"},\"marker\":{\"line\":{\"color\":\"#E5ECF6\",\"width\":0.5},\"pattern\":{\"fillmode\":\"overlay\",\"size\":10,\"solidity\":0.2}},\"type\":\"bar\"}],\"scattergeo\":[{\"type\":\"scattergeo\",\"marker\":{\"colorbar\":{\"outlinewidth\":0,\"ticks\":\"\"}}}],\"scatterpolar\":[{\"type\":\"scatterpolar\",\"marker\":{\"colorbar\":{\"outlinewidth\":0,\"ticks\":\"\"}}}],\"histogram\":[{\"marker\":{\"pattern\":{\"fillmode\":\"overlay\",\"size\":10,\"solidity\":0.2}},\"type\":\"histogram\"}],\"scattergl\":[{\"type\":\"scattergl\",\"marker\":{\"colorbar\":{\"outlinewidth\":0,\"ticks\":\"\"}}}],\"scatter3d\":[{\"type\":\"scatter3d\",\"line\":{\"colorbar\":{\"outlinewidth\":0,\"ticks\":\"\"}},\"marker\":{\"colorbar\":{\"outlinewidth\":0,\"ticks\":\"\"}}}],\"scattermapbox\":[{\"type\":\"scattermapbox\",\"marker\":{\"colorbar\":{\"outlinewidth\":0,\"ticks\":\"\"}}}],\"scatterternary\":[{\"type\":\"scatterternary\",\"marker\":{\"colorbar\":{\"outlinewidth\":0,\"ticks\":\"\"}}}],\"scattercarpet\":[{\"type\":\"scattercarpet\",\"marker\":{\"colorbar\":{\"outlinewidth\":0,\"ticks\":\"\"}}}],\"carpet\":[{\"aaxis\":{\"endlinecolor\":\"#2a3f5f\",\"gridcolor\":\"white\",\"linecolor\":\"white\",\"minorgridcolor\":\"white\",\"startlinecolor\":\"#2a3f5f\"},\"baxis\":{\"endlinecolor\":\"#2a3f5f\",\"gridcolor\":\"white\",\"linecolor\":\"white\",\"minorgridcolor\":\"white\",\"startlinecolor\":\"#2a3f5f\"},\"type\":\"carpet\"}],\"table\":[{\"cells\":{\"fill\":{\"color\":\"#EBF0F8\"},\"line\":{\"color\":\"white\"}},\"header\":{\"fill\":{\"color\":\"#C8D4E3\"},\"line\":{\"color\":\"white\"}},\"type\":\"table\"}],\"barpolar\":[{\"marker\":{\"line\":{\"color\":\"#E5ECF6\",\"width\":0.5},\"pattern\":{\"fillmode\":\"overlay\",\"size\":10,\"solidity\":0.2}},\"type\":\"barpolar\"}],\"pie\":[{\"automargin\":true,\"type\":\"pie\"}]},\"layout\":{\"autotypenumbers\":\"strict\",\"colorway\":[\"#636efa\",\"#EF553B\",\"#00cc96\",\"#ab63fa\",\"#FFA15A\",\"#19d3f3\",\"#FF6692\",\"#B6E880\",\"#FF97FF\",\"#FECB52\"],\"font\":{\"color\":\"#2a3f5f\"},\"hovermode\":\"closest\",\"hoverlabel\":{\"align\":\"left\"},\"paper_bgcolor\":\"white\",\"plot_bgcolor\":\"#E5ECF6\",\"polar\":{\"bgcolor\":\"#E5ECF6\",\"angularaxis\":{\"gridcolor\":\"white\",\"linecolor\":\"white\",\"ticks\":\"\"},\"radialaxis\":{\"gridcolor\":\"white\",\"linecolor\":\"white\",\"ticks\":\"\"}},\"ternary\":{\"bgcolor\":\"#E5ECF6\",\"aaxis\":{\"gridcolor\":\"white\",\"linecolor\":\"white\",\"ticks\":\"\"},\"baxis\":{\"gridcolor\":\"white\",\"linecolor\":\"white\",\"ticks\":\"\"},\"caxis\":{\"gridcolor\":\"white\",\"linecolor\":\"white\",\"ticks\":\"\"}},\"coloraxis\":{\"colorbar\":{\"outlinewidth\":0,\"ticks\":\"\"}},\"colorscale\":{\"sequential\":[[0.0,\"#0d0887\"],[0.1111111111111111,\"#46039f\"],[0.2222222222222222,\"#7201a8\"],[0.3333333333333333,\"#9c179e\"],[0.4444444444444444,\"#bd3786\"],[0.5555555555555556,\"#d8576b\"],[0.6666666666666666,\"#ed7953\"],[0.7777777777777778,\"#fb9f3a\"],[0.8888888888888888,\"#fdca26\"],[1.0,\"#f0f921\"]],\"sequentialminus\":[[0.0,\"#0d0887\"],[0.1111111111111111,\"#46039f\"],[0.2222222222222222,\"#7201a8\"],[0.3333333333333333,\"#9c179e\"],[0.4444444444444444,\"#bd3786\"],[0.5555555555555556,\"#d8576b\"],[0.6666666666666666,\"#ed7953\"],[0.7777777777777778,\"#fb9f3a\"],[0.8888888888888888,\"#fdca26\"],[1.0,\"#f0f921\"]],\"diverging\":[[0,\"#8e0152\"],[0.1,\"#c51b7d\"],[0.2,\"#de77ae\"],[0.3,\"#f1b6da\"],[0.4,\"#fde0ef\"],[0.5,\"#f7f7f7\"],[0.6,\"#e6f5d0\"],[0.7,\"#b8e186\"],[0.8,\"#7fbc41\"],[0.9,\"#4d9221\"],[1,\"#276419\"]]},\"xaxis\":{\"gridcolor\":\"white\",\"linecolor\":\"white\",\"ticks\":\"\",\"title\":{\"standoff\":15},\"zerolinecolor\":\"white\",\"automargin\":true,\"zerolinewidth\":2},\"yaxis\":{\"gridcolor\":\"white\",\"linecolor\":\"white\",\"ticks\":\"\",\"title\":{\"standoff\":15},\"zerolinecolor\":\"white\",\"automargin\":true,\"zerolinewidth\":2},\"scene\":{\"xaxis\":{\"backgroundcolor\":\"#E5ECF6\",\"gridcolor\":\"white\",\"linecolor\":\"white\",\"showbackground\":true,\"ticks\":\"\",\"zerolinecolor\":\"white\",\"gridwidth\":2},\"yaxis\":{\"backgroundcolor\":\"#E5ECF6\",\"gridcolor\":\"white\",\"linecolor\":\"white\",\"showbackground\":true,\"ticks\":\"\",\"zerolinecolor\":\"white\",\"gridwidth\":2},\"zaxis\":{\"backgroundcolor\":\"#E5ECF6\",\"gridcolor\":\"white\",\"linecolor\":\"white\",\"showbackground\":true,\"ticks\":\"\",\"zerolinecolor\":\"white\",\"gridwidth\":2}},\"shapedefaults\":{\"line\":{\"color\":\"#2a3f5f\"}},\"annotationdefaults\":{\"arrowcolor\":\"#2a3f5f\",\"arrowhead\":0,\"arrowwidth\":1},\"geo\":{\"bgcolor\":\"white\",\"landcolor\":\"#E5ECF6\",\"subunitcolor\":\"white\",\"showland\":true,\"showlakes\":true,\"lakecolor\":\"white\"},\"title\":{\"x\":0.05},\"mapbox\":{\"style\":\"light\"}}},\"xaxis\":{\"anchor\":\"y\",\"domain\":[0.0,1.0],\"title\":{\"text\":\"variable\"}},\"yaxis\":{\"anchor\":\"x\",\"domain\":[0.0,1.0],\"title\":{\"text\":\"value\"}},\"legend\":{\"tracegroupgap\":0},\"margin\":{\"t\":60},\"boxmode\":\"group\"},                        {\"responsive\": true}                    ).then(function(){\n",
       "                            \n",
       "var gd = document.getElementById('bc1612de-9796-44d2-9967-24171461394b');\n",
       "var x = new MutationObserver(function (mutations, observer) {{\n",
       "        var display = window.getComputedStyle(gd).display;\n",
       "        if (!display || display === 'none') {{\n",
       "            console.log([gd, 'removed!']);\n",
       "            Plotly.purge(gd);\n",
       "            observer.disconnect();\n",
       "        }}\n",
       "}});\n",
       "\n",
       "// Listen for the removal of the full notebook cells\n",
       "var notebookContainer = gd.closest('#notebook-container');\n",
       "if (notebookContainer) {{\n",
       "    x.observe(notebookContainer, {childList: true});\n",
       "}}\n",
       "\n",
       "// Listen for the clearing of the current output cell\n",
       "var outputEl = gd.closest('.output');\n",
       "if (outputEl) {{\n",
       "    x.observe(outputEl, {childList: true});\n",
       "}}\n",
       "\n",
       "                        })                };                });            </script>        </div>"
      ]
     },
     "metadata": {},
     "output_type": "display_data"
    }
   ],
   "source": [
    "# Suspecting of lower and upper outliers with the help of boxplots\n",
    "# For any X the outlier suspecion will be.\n",
    "# Lower outlier = value at 25% - \n",
    "# Upper outlier = value at 75% -\n",
    "\n",
    "ad_data_box = px.box(data_frame = ad_data)\n",
    "ad_data_box.show()"
   ]
  },
  {
   "cell_type": "code",
   "execution_count": 70,
   "id": "8e92899b-eda4-4218-ba93-393e1362cd76",
   "metadata": {},
   "outputs": [
    {
     "data": {
      "image/png": "[encoded data removed]",
      "text/plain": [
       "<Figure size 640x480 with 1 Axes>"
      ]
     },
     "metadata": {},
     "output_type": "display_data"
    },
    {
     "data": {
      "image/png": "[encoded data removed]",
      "text/plain": [
       "<Figure size 640x480 with 1 Axes>"
      ]
     },
     "metadata": {},
     "output_type": "display_data"
    },
    {
     "data": {
      "image/png": "[encoded data removed]",
      "text/plain": [
       "<Figure size 640x480 with 1 Axes>"
      ]
     },
     "metadata": {},
     "output_type": "display_data"
    },
    {
     "data": {
      "image/png": "[encoded data removed]",
      "text/plain": [
       "<Figure size 640x480 with 1 Axes>"
      ]
     },
     "metadata": {},
     "output_type": "display_data"
    }
   ],
   "source": [
    "# Assumption 1: There should be no outliers in data\n",
    "# Check box plot\n",
    "for i in ad_data.columns:\n",
    "    ad_data.boxplot(column = i)\n",
    "    plt.show()\n",
    "\n",
    "# Using plotly\n",
    "# for i in ad_data.columns:\n",
    "#    ad_data_box = px.box(data_frame = ad_data, y = i)\n",
    "#    ad_data_box.show()"
   ]
  },
  {
   "cell_type": "markdown",
   "id": "95c3a6f8",
   "metadata": {},
   "source": [
    "* here in newsapaper if we see the outliers are ot far from the accepatable range hence there could be chance that in those particular month the investion done is high, They might be a true outliers hence we are keeping them untouched. \n",
    "  \n",
    "##### for later stage\n",
    "* We can see two outliers in newspaper, we will eliminate the two ouliers and proceed  \n",
    "  #data.drop(data[data[\"newspaper\"] >= 90].index, axis = 0, inplace = True)"
   ]
  },
  {
   "cell_type": "code",
   "execution_count": 71,
   "id": "4a3d6f11-9f87-4e05-8583-7913609efa9b",
   "metadata": {
    "scrolled": true
   },
   "outputs": [
    {
     "data": {
      "image/png": "[encoded data removed]",
      "text/plain": [
       "<Figure size 750x250 with 3 Axes>"
      ]
     },
     "metadata": {},
     "output_type": "display_data"
    }
   ],
   "source": [
    "# Assumption 2: Assumption of linearity, every indpendent varibale should have a linear relationship with dependent variable\n",
    "\n",
    "sns.pairplot(ad_data, x_vars = [\"TV\", \"radio\", \"newspaper\"], y_vars = [\"sales\"], kind = \"reg\")\n",
    "plt.show()\n",
    "\n",
    "# scatter plt ---> use to relationship between 2 continuous variables. we cannot get check it on categorical variable.\n",
    "# kind= reg ---> tp get the line \n",
    "# we can also write kind =scatter to get the points\n",
    "# this is how we can check the linearity if we have too many variables by passing the variables accordingly.\n",
    "#data.column[0:-1]"
   ]
  },
  {
   "cell_type": "markdown",
   "id": "ba7a97bc",
   "metadata": {},
   "source": [
    "* Tv ---> we can say that there is a high positive relation between tv and sales.\n",
    "* radio--> there is slightly moderate relation between the sales and radio as the points below the line are scattered and the points above the line are showing a positive relation. \n",
    "* newspaper---> all the data points are scattered hence it is showing no relation(no matter how much investment we we do still the sales will remain same)\n",
    ". hence we can eliminate that variable which doesnt meet the assumption but befor that we need to check if the very is significant or not.\n",
    "* NOTE: when the variable does not meet the assumption of linearity but is imp variable then we would switch the algo."
   ]
  },
  {
   "cell_type": "code",
   "execution_count": 72,
   "id": "f3c8284d-973b-4fa3-b951-4d3cedbf1aa0",
   "metadata": {},
   "outputs": [],
   "source": [
    "# data.drop([\"newspaper\"], axis = 1, inplace = True)"
   ]
  },
  {
   "cell_type": "code",
   "execution_count": 73,
   "id": "6eda1bb6-0947-4bbe-87f0-40d7958c9b59",
   "metadata": {},
   "outputs": [
    {
     "data": {
      "text/plain": [
       "Index(['TV', 'radio', 'newspaper', 'sales'], dtype='object')"
      ]
     },
     "execution_count": 73,
     "metadata": {},
     "output_type": "execute_result"
    }
   ],
   "source": [
    "ad_data.columns"
   ]
  },
  {
   "cell_type": "code",
   "execution_count": 74,
   "id": "79409c07-e3cf-45c8-ab9a-1e41b2081f63",
   "metadata": {},
   "outputs": [],
   "source": [
    "# Create X and Y - independent and dependent\n",
    "X = ad_data[[\"TV\", \"radio\", \"newspaper\"]]\n",
    "Y = ad_data[[\"sales\"]]\n",
    "\n",
    "# if there are multiple variables \n",
    "#X=data.iloc[:,0:-1] ---> consider all the values in rows and consider only columns till -2"
   ]
  },
  {
   "cell_type": "code",
   "execution_count": 75,
   "id": "efe33a2f-ffe0-42ca-a19f-f2c7de87e7a0",
   "metadata": {},
   "outputs": [
    {
     "name": "stdout",
     "output_type": "stream",
     "text": [
      "(200, 3)\n",
      "\n",
      "(200, 1)\n"
     ]
    }
   ],
   "source": [
    "print(X.shape)\n",
    "print()\n",
    "print(Y.shape)"
   ]
  },
  {
   "cell_type": "code",
   "execution_count": 76,
   "id": "5b6e5593-1eab-4dc3-8753-16ed55315942",
   "metadata": {},
   "outputs": [
    {
     "data": {
      "image/png": "[encoded data removed]",
      "text/plain": [
       "<Figure size 640x480 with 1 Axes>"
      ]
     },
     "metadata": {},
     "output_type": "display_data"
    }
   ],
   "source": [
    "# Assumption of Normality: The dependent variable should follow an approximate normal distribution\n",
    "#sns.displot(Y, kde = True)    #in new version displot doesnt show curve so for that we write this code)\n",
    "#plt.show()\n",
    "\n",
    "sns.distplot(Y)\n",
    "plt.show()"
   ]
  },
  {
   "cell_type": "markdown",
   "id": "850bdc28",
   "metadata": {},
   "source": [
    "* sales variabes is showing an approx normal distribution. "
   ]
  },
  {
   "cell_type": "code",
   "execution_count": 77,
   "id": "2c89b8d8",
   "metadata": {},
   "outputs": [],
   "source": [
    "# Log and SQRT transformation can reduce skewness of the data\n",
    "# Log transformation smoothens out the peaks\n",
    "# Log transformation are preferred over SQRT transformation because it would reduce the value but still show the peak and in logtrans it smoothens how the peak and makes it bell shape"
   ]
  },
  {
   "cell_type": "code",
   "execution_count": 78,
   "id": "3715ad60",
   "metadata": {},
   "outputs": [
    {
     "data": {
      "text/plain": [
       "'# Log Transformation code:\\nimport numpy as np\\nY_log = np.log(Y)\\n'"
      ]
     },
     "execution_count": 78,
     "metadata": {},
     "output_type": "execute_result"
    }
   ],
   "source": [
    "\"\"\"# Log Transformation code:\n",
    "import numpy as np\n",
    "Y_log = np.log(Y)     # if error comes in \n",
    "\"\"\"\n"
   ]
  },
  {
   "cell_type": "markdown",
   "id": "7a33c117",
   "metadata": {},
   "source": [
    "NOTE: \n",
    "* Ahead we will always use Y_log values and not Y values\n",
    "* if the data meets the assumption we will not use log transformation.\n",
    "* Log transformation can bring skewness if we apply log transformation on normal distributed data.\n"
   ]
  },
  {
   "cell_type": "code",
   "execution_count": 79,
   "id": "0e6f522d-e68f-4775-ac97-6ba4a4995d60",
   "metadata": {},
   "outputs": [
    {
     "data": {
      "image/png": "[encoded data removed]",
      "text/plain": [
       "<Figure size 640x480 with 4 Axes>"
      ]
     },
     "metadata": {},
     "output_type": "display_data"
    }
   ],
   "source": [
    "X.hist(bins = 20) # dividing the data into 20 bins\n",
    "plt.show()\n",
    "\n",
    "# on y axis its the frequency count, height of bin will tell how many observations fall into that particular range(freq count)\n",
    "#lets say if there is 100 to 110 bin then we can say total 8 observations are falling into that partiular bin."
   ]
  },
  {
   "cell_type": "markdown",
   "id": "d82dcbf1",
   "metadata": {},
   "source": [
    "\n",
    "* We are trying to check the skweness in the x variable though it is not an assumption but a good practice. \n",
    "* This will help to handle skweness in the independent variables. \n",
    "* Concusion: We can see Newspaper has right-skewness as the value is tailing towards positive side."
   ]
  },
  {
   "cell_type": "code",
   "execution_count": 80,
   "id": "c34008fa-6440-46fc-b11b-1af232beda26",
   "metadata": {},
   "outputs": [
    {
     "name": "stdout",
     "output_type": "stream",
     "text": [
      "TV          -0.069328\n",
      "radio        0.093467\n",
      "newspaper    0.887996\n",
      "dtype: float64\n",
      "newspaper    0.887996\n",
      "dtype: float64\n"
     ]
    }
   ],
   "source": [
    "# To log tarnsform only those independent variable X which has skewness\n",
    "\n",
    "from scipy.stats import skew \n",
    "\n",
    "# finding the skewness in each variable\n",
    "data_num_skew = X.apply(lambda i : skew(i.dropna())) \n",
    "# X.apply means the logic that im applying here needs to be applied to each an every variable of x.\n",
    "# lambda functions is used to create annoynmous funct---> it will create a temporary function and later delete it from the memory\n",
    "\n",
    "# Subsetting the varibale that are highly skewed\n",
    "data_num_skewed = data_num_skew[(data_num_skew > 0.75) | (data_num_skew < -0.75)]\n",
    "\n",
    "print(data_num_skew)\n",
    "print(data_num_skewed)\n",
    "\n",
    "# import numpy as np\n",
    "\n",
    "# Apply log + 1 transformation for all numeric features with skewness over 0.75\n",
    "X[data_num_skewed.index] = np.log1p(X[data_num_skewed.index]) #  generic code \n",
    "# X[\"newspaper\"] = np.log1p(X[\"newspaper\"]) \n",
    "\n",
    "\n",
    "# if there is 0 value in X variable then take log1p (adds 1 then takes log) because if take log of 0 it will return - infinity\n",
    "# - infinity is not a numeric value and ideally we cant build model on infinite values.\n",
    "# to be on safer side we use log1 tranformation.\n",
    "# Note: log transformation or log1p transformation needs to be excute only once."
   ]
  },
  {
   "cell_type": "markdown",
   "id": "dd139c69",
   "metadata": {},
   "source": [
    "* if the value is close to 0 there is less or no skweness value in the data and value close to 1 and -1 then it is highly skwed nature.\n",
    "* Here if we see tv skweness value is close to zero means there is no skweness in the data, same with radio the value is close to 0 . \n",
    "* but if we observe in newspaper the skweness value is very close to 1 ( highly positive skweness). hence we can say that there is skweness and same was observed in the above graph as wel."
   ]
  },
  {
   "cell_type": "code",
   "execution_count": 81,
   "id": "9c48e6d4",
   "metadata": {},
   "outputs": [
    {
     "data": {
      "text/html": [
       "<div>\n",
       "<style scoped>\n",
       "    .dataframe tbody tr th:only-of-type {\n",
       "        vertical-align: middle;\n",
       "    }\n",
       "\n",
       "    .dataframe tbody tr th {\n",
       "        vertical-align: top;\n",
       "    }\n",
       "\n",
       "    .dataframe thead th {\n",
       "        text-align: right;\n",
       "    }\n",
       "</style>\n",
       "<table border=\"1\" class=\"dataframe\">\n",
       "  <thead>\n",
       "    <tr style=\"text-align: right;\">\n",
       "      <th></th>\n",
       "      <th>TV</th>\n",
       "      <th>radio</th>\n",
       "      <th>newspaper</th>\n",
       "    </tr>\n",
       "  </thead>\n",
       "  <tbody>\n",
       "    <tr>\n",
       "      <th>1</th>\n",
       "      <td>230.1</td>\n",
       "      <td>37.8</td>\n",
       "      <td>4.251348</td>\n",
       "    </tr>\n",
       "    <tr>\n",
       "      <th>2</th>\n",
       "      <td>44.5</td>\n",
       "      <td>39.3</td>\n",
       "      <td>3.830813</td>\n",
       "    </tr>\n",
       "    <tr>\n",
       "      <th>3</th>\n",
       "      <td>17.2</td>\n",
       "      <td>45.9</td>\n",
       "      <td>4.252772</td>\n",
       "    </tr>\n",
       "    <tr>\n",
       "      <th>4</th>\n",
       "      <td>151.5</td>\n",
       "      <td>41.3</td>\n",
       "      <td>4.085976</td>\n",
       "    </tr>\n",
       "    <tr>\n",
       "      <th>5</th>\n",
       "      <td>180.8</td>\n",
       "      <td>10.8</td>\n",
       "      <td>4.084294</td>\n",
       "    </tr>\n",
       "    <tr>\n",
       "      <th>...</th>\n",
       "      <td>...</td>\n",
       "      <td>...</td>\n",
       "      <td>...</td>\n",
       "    </tr>\n",
       "    <tr>\n",
       "      <th>196</th>\n",
       "      <td>38.2</td>\n",
       "      <td>3.7</td>\n",
       "      <td>2.694627</td>\n",
       "    </tr>\n",
       "    <tr>\n",
       "      <th>197</th>\n",
       "      <td>94.2</td>\n",
       "      <td>4.9</td>\n",
       "      <td>2.208274</td>\n",
       "    </tr>\n",
       "    <tr>\n",
       "      <th>198</th>\n",
       "      <td>177.0</td>\n",
       "      <td>9.3</td>\n",
       "      <td>2.001480</td>\n",
       "    </tr>\n",
       "    <tr>\n",
       "      <th>199</th>\n",
       "      <td>283.6</td>\n",
       "      <td>42.0</td>\n",
       "      <td>4.207673</td>\n",
       "    </tr>\n",
       "    <tr>\n",
       "      <th>200</th>\n",
       "      <td>232.1</td>\n",
       "      <td>8.6</td>\n",
       "      <td>2.272126</td>\n",
       "    </tr>\n",
       "  </tbody>\n",
       "</table>\n",
       "<p>200 rows × 3 columns</p>\n",
       "</div>"
      ],
      "text/plain": [
       "        TV  radio  newspaper\n",
       "1    230.1   37.8   4.251348\n",
       "2     44.5   39.3   3.830813\n",
       "3     17.2   45.9   4.252772\n",
       "4    151.5   41.3   4.085976\n",
       "5    180.8   10.8   4.084294\n",
       "..     ...    ...        ...\n",
       "196   38.2    3.7   2.694627\n",
       "197   94.2    4.9   2.208274\n",
       "198  177.0    9.3   2.001480\n",
       "199  283.6   42.0   4.207673\n",
       "200  232.1    8.6   2.272126\n",
       "\n",
       "[200 rows x 3 columns]"
      ]
     },
     "execution_count": 81,
     "metadata": {},
     "output_type": "execute_result"
    }
   ],
   "source": [
    "X\n",
    "# here if we see the newspaper has stored the log1p values.\n"
   ]
  },
  {
   "cell_type": "code",
   "execution_count": null,
   "id": "06a09b7a",
   "metadata": {},
   "outputs": [],
   "source": [
    "# terminalogys to remember realted to model\n",
    "#  Y--X\n",
    "#  Log-log --> it means we have applied log transformation on y variable and something in x variable as transformed\n",
    "#  log-level ---> means we have applied log transformation on y variable and on x there is not log transformation.\n",
    "#  level- log ---> no log transformation on Y and but on x\n",
    "#  level-level--->no log transformation on any variable.\n",
    "\n",
    "# here we are trying to build level--log model.\n"
   ]
  },
  {
   "cell_type": "code",
   "execution_count": 82,
   "id": "b27b9187-351c-4570-8d1a-2965ad09ea6c",
   "metadata": {},
   "outputs": [
    {
     "name": "stdout",
     "output_type": "stream",
     "text": [
      "                 TV     radio  newspaper\n",
      "TV         1.000000  0.054809   0.030951\n",
      "radio      0.054809  1.000000   0.251909\n",
      "newspaper  0.030951  0.251909   1.000000\n"
     ]
    },
    {
     "data": {
      "image/png": "[encoded data removed]",
      "text/plain": [
       "<Figure size 640x480 with 2 Axes>"
      ]
     },
     "metadata": {},
     "output_type": "display_data"
    }
   ],
   "source": [
    "# Assumption of NO multi-collinearity: There should should be no multi-collinearity between the independent variables\n",
    "# example: lets say i a data set where i have monthly salary and annual salary, these two independent variable \n",
    "#          will show multi collinearity because if monthly salary increases the annual salary will aslo increase\n",
    "\n",
    "# multi-collinearity means relationship amongst the multiple independent variables \n",
    "#2 approaches to check multi collinearity\n",
    "#        * simple approach( correlation matrix): where it will allows us to check corealtion between 2 variables\n",
    "#                           and then later we can eliminate any one variable from it.\n",
    "#        * VIF: variance inflation factor\n",
    "\n",
    "\n",
    "corr_df = X.corr(method = \"pearson\") # it will create df and store the relationship values between each variable\n",
    "print(corr_df)\n",
    "\n",
    "sns.heatmap(corr_df, vmax = 1.0, vmin = -1.0, annot = True)\n",
    "# here vmax and vmin is to pass the colours for the range 1 to -1 and annot= true is for printing the values on the heatmaps.\n",
    "\n",
    "plt.show()\n"
   ]
  },
  {
   "cell_type": "markdown",
   "id": "ccdf36f4",
   "metadata": {},
   "source": [
    "Heatmaps : The colors in the heatmap represent the correlation between the ind variables, which typically range from -1 to 1.\n",
    "* 1 indicates a perfect positive correlation. if 1 x variable value increase then 1 y variable value will also increase\n",
    "* -1 indicates a perfect negative correlation. if 1 x variable value increase then 1 y variable value will also decrease\n",
    "* 0 indicates no correlation. \n",
    "\n",
    "* The gradient or intensity of the colors helps to quickly identify the strength and direction of correlations.\n",
    "\n",
    "How to read the heatmap: \n",
    "* daigonally if we see its showing 1 because variable relation with itsellf will always be hight positive correlation.\n",
    "* the relation between radio and tv is showing 0.055 means the value is close to 0 and hence the variable are independent of each other.\n",
    "* similarly, the relation of newspaer with tv is gain close to 0 hence the variable are independent of each other.\n",
    "* similary we can check for the rest of them as well.   \n",
    "  \n",
    "  \n",
    "Hence we can conclude that there is no collinearity among the variable each variable are independent of each other.  \n",
    "  \n",
    "  \n",
    "Note: if i see high corelation in any of the variable then i would simply remove one variable basis of their importance/ significance. \n"
   ]
  },
  {
   "cell_type": "code",
   "execution_count": 83,
   "id": "279fc223-599b-4aa1-a25d-20a7968e341c",
   "metadata": {},
   "outputs": [],
   "source": [
    "# VIF [Variance Inflation Factor]\n",
    "# VIF = 1 / (1 - R^2) It returns the r^2 value as the output\n",
    "# It will go through the number of iterations, the number of iterations depend on number of X\n",
    "\n",
    "# Minumum VIF is 1 and acceptable VIF is less than 5 or 10.\n",
    "# if my r^2 value is high VIF value also be high which is not the ideal senario.\n",
    "# We always eliminate that variable with highest VIF value and re-run the VIF function on the remaining variable\n",
    "#          this will change the VIF values for the variable then again delete the highest VIF value and so on.        \n",
    "#         ... keep the process continuing till we get a full ranked matrix, all the variables will have VIF< 5.\n",
    "#           hence i have reach the case where i can keep the var and build a model on it.\n",
    "\n",
    "# Note: here keep in mind that full ranked matrix should not be the main goal becoz we will end up losing the variable \n",
    "#       and hence wont be able to justify the model to the client.\n",
    "\n",
    "# if VIF is < 5, keep the variables\n",
    "# if VIF > 5, try to eliminate the variables. \n",
    "\n",
    "# note: eliminate the VIF value one by one and all together depending upon its importance.\n",
    "# Example: lets say house prediction model, where i have High VIF value for sqft area so in this case ill not delete \n",
    "#          the variable because it holds significance value in the data \n",
    "#          bcoz on the basis of sqft area ill predict the selling price of the house. tho it is giving good r^2 value. \n",
    "\n",
    "# For example:\n",
    "# 1st iteration:\n",
    "# TV - dependent variable\n",
    "# Radio & Newspaper - independent variable \n",
    "# Suppose  R^2 = 0.2, thus VIF will be low.\n",
    "\n",
    "# 2nd iteration:\n",
    "# Radio - dependent variable\n",
    "# TV & Newspaper - independent variable \n",
    "# Suppose  R^2 = 0.8, thus VIF will be high.\n",
    "\n",
    "# 3rd iteration:\n",
    "# Newspaper - dependent variable\n",
    "# TV & Radio - independent variable \n",
    "# Suppose  R^2 = 0.1, thus VIF will be low.\n",
    "\n",
    "# if my r^2 value is high VIF value also be high which is not the ideal senario.\n"
   ]
  },
  {
   "cell_type": "code",
   "execution_count": 84,
   "id": "abaa3957-582a-44a4-848d-00b3b477b050",
   "metadata": {},
   "outputs": [
    {
     "data": {
      "text/html": [
       "<div>\n",
       "<style scoped>\n",
       "    .dataframe tbody tr th:only-of-type {\n",
       "        vertical-align: middle;\n",
       "    }\n",
       "\n",
       "    .dataframe tbody tr th {\n",
       "        vertical-align: top;\n",
       "    }\n",
       "\n",
       "    .dataframe thead th {\n",
       "        text-align: right;\n",
       "    }\n",
       "</style>\n",
       "<table border=\"1\" class=\"dataframe\">\n",
       "  <thead>\n",
       "    <tr style=\"text-align: right;\">\n",
       "      <th></th>\n",
       "      <th>features</th>\n",
       "      <th>VIF Factor</th>\n",
       "    </tr>\n",
       "  </thead>\n",
       "  <tbody>\n",
       "    <tr>\n",
       "      <th>0</th>\n",
       "      <td>TV</td>\n",
       "      <td>3.39</td>\n",
       "    </tr>\n",
       "    <tr>\n",
       "      <th>1</th>\n",
       "      <td>radio</td>\n",
       "      <td>3.63</td>\n",
       "    </tr>\n",
       "    <tr>\n",
       "      <th>2</th>\n",
       "      <td>newspaper</td>\n",
       "      <td>5.44</td>\n",
       "    </tr>\n",
       "  </tbody>\n",
       "</table>\n",
       "</div>"
      ],
      "text/plain": [
       "    features  VIF Factor\n",
       "0         TV        3.39\n",
       "1      radio        3.63\n",
       "2  newspaper        5.44"
      ]
     },
     "execution_count": 84,
     "metadata": {},
     "output_type": "execute_result"
    }
   ],
   "source": [
    "from statsmodels.stats.outliers_influence import variance_inflation_factor as vif\n",
    " \n",
    "vif_df = pd.DataFrame() # creating empt df\n",
    "vif_df[\"features\"] = X.columns # where im creating a col name(features) in vif_df where i'm going to store the x.var values as obs\n",
    "vif_df[\"VIF Factor\"] = [vif(X.values, i) for i in range(X.shape[1])] # i will point to number of columns saying number of iterations\n",
    "vif_df.round(2)"
   ]
  },
  {
   "cell_type": "code",
   "execution_count": 111,
   "id": "0b86d536",
   "metadata": {},
   "outputs": [
    {
     "data": {
      "text/plain": [
       "3"
      ]
     },
     "execution_count": 111,
     "metadata": {},
     "output_type": "execute_result"
    }
   ],
   "source": [
    "X.shape[1] "
   ]
  },
  {
   "cell_type": "code",
   "execution_count": 113,
   "id": "1cff7aea",
   "metadata": {},
   "outputs": [
    {
     "data": {
      "text/plain": [
       "[0, 1, 2]"
      ]
     },
     "execution_count": 113,
     "metadata": {},
     "output_type": "execute_result"
    }
   ],
   "source": [
    "list(range(X.shape[1]))"
   ]
  },
  {
   "cell_type": "code",
   "execution_count": 85,
   "id": "530ee70b-ebc1-4877-a25d-5c8b1c8c025f",
   "metadata": {},
   "outputs": [],
   "source": [
    "#X.drop(\"newspaper\",axis=1,inplace=True) \n",
    "#rerun the VIF code\n",
    "# drop the variable with highest VIF value which shows multi-collinearity in data."
   ]
  },
  {
   "cell_type": "code",
   "execution_count": 86,
   "id": "080e6c0c-fe57-4714-9830-2808cec53cb7",
   "metadata": {},
   "outputs": [],
   "source": [
    "from sklearn.model_selection import train_test_split\n",
    "\n",
    "\n",
    "# Split the data into test and train---> where it will do randomly split the data\n",
    "# we will try building model on training data and then predict the model on the testing data.\n",
    "\n",
    "X_train, X_test, Y_train, Y_test = train_test_split(X, Y, test_size = 0.2, random_state = 10) \n",
    "# this code is used when we have been given single data file. \n",
    "# left side code should be in same format all we have to change is test_size.\n",
    "\n",
    "\n",
    "# NOTE: test_size indicates what is the ratio we want to split the data. \n",
    "#    if the data > 1000 ----> we follow 70-30 ratio where 70 will go in training data and 30 in testing \n",
    "#   if the data < 1000----> 80-20 ratio because if the data is very less in traing then my model will be underfitted. \n",
    "#    default value for test_size is 0.25 where 75 in train and 25 in test. "
   ]
  },
  {
   "cell_type": "code",
   "execution_count": 121,
   "id": "1b07419a-0307-4441-be41-f0d073b501e0",
   "metadata": {},
   "outputs": [
    {
     "name": "stdout",
     "output_type": "stream",
     "text": [
      "(160, 3)\n",
      "(160, 1)\n",
      "(40, 3)\n",
      "(40, 1)\n",
      "Percentage of train 80.0\n",
      "Percentage of test 20.0\n",
      "Percentage of train 80.0\n",
      "Percentage of test 20.0\n"
     ]
    }
   ],
   "source": [
    "print(X_train.shape)\n",
    "print(Y_train.shape)\n",
    "print(X_test.shape)\n",
    "print(Y_test.shape)\n",
    "print(\"Percentage of train\",X_train.shape[0]/X.shape[0]*100)\n",
    "print(\"Percentage of test\",X_test.shape[0]/X.shape[0]*100)\n",
    "print(\"Percentage of train\",Y_train.shape[0]/X.shape[0]*100)\n",
    "print(\"Percentage of test\",Y_test.shape[0]/X.shape[0]*100)"
   ]
  },
  {
   "cell_type": "code",
   "execution_count": null,
   "id": "bd7fe370",
   "metadata": {},
   "outputs": [],
   "source": []
  },
  {
   "cell_type": "code",
   "execution_count": 127,
   "id": "445a6b76-fe14-4b34-98f7-a55eace83441",
   "metadata": {},
   "outputs": [
    {
     "name": "stdout",
     "output_type": "stream",
     "text": [
      "[3.35329139]\n",
      "[[ 0.0437425   0.19303708 -0.04895137]]\n"
     ]
    }
   ],
   "source": [
    "from sklearn.linear_model import LinearRegression\n",
    "\n",
    "#create a model object\n",
    "lm = LinearRegression()\n",
    "\n",
    "# train the model object\n",
    "lm.fit(X_train, Y_train) \n",
    "# so here im telling the lm objects that if these are the investment done on the x var over period of month then \n",
    "#    this is the increase in the sales.\n",
    "# so 160 obs have gone into the training data that ill pass in the fit function such that the LR will learn the model and give us the best fit line eq. \n",
    "\n",
    "\n",
    "# once the model is build it will assosicate with some parameter \n",
    "\n",
    "# print intercept and coefficients---> (parameters)\n",
    "print(lm.intercept_ # it will give B0 value which indicate if one unit change in x then how many unit change in y \n",
    "print(lm.coef_) # it will give slope coefficient value."
   ]
  },
  {
   "cell_type": "markdown",
   "id": "70d7b189",
   "metadata": {},
   "source": [
    "Conclusion: By investing 1000 dollars into TV ads, we can see a increase of 0.04 dollars in the sales. Given in Problem Statment that numbers are 1000 of dollars. by investing 1000 dollars in radio ads, we can see a increase of 0.19 dollars in the sales. if 1000 dollars is invested in the newspaper the sales is drecasing by 0.048 dollars  .  \n",
    "  \n",
    "Hence we can conclude over here is that investing in tv and radio is actually increasing the sale nut investing in radio the sales drastically decreasing(-ve relation). Also investing in radio, the sales is drasticalling increasing.  \n",
    "So here i can tell the client to stop making investment in newspapers because it is not a profitable aaproach."
   ]
  },
  {
   "cell_type": "code",
   "execution_count": 125,
   "id": "f44c7a10-8b6d-40f7-ae1f-b9a021cc0d81",
   "metadata": {},
   "outputs": [
    {
     "name": "stdout",
     "output_type": "stream",
     "text": [
      "[('TV', 0.04374250157742164), ('radio', 0.19303707897345296), ('newspaper', -0.04895136822248787)]\n"
     ]
    }
   ],
   "source": [
    "# pair the feature names with the coefficients \n",
    "print(list(zip(X.columns, lm.coef_.ravel())))\n",
    "\n",
    "# ravel() in np will help me to convert 2 demensions array into single demensional array"
   ]
  },
  {
   "cell_type": "code",
   "execution_count": 120,
   "id": "0dd4a859-221b-4363-ad2d-15c20d152499",
   "metadata": {},
   "outputs": [
    {
     "name": "stdout",
     "output_type": "stream",
     "text": [
      "46.33495733824793\n"
     ]
    }
   ],
   "source": [
    "# Manually predicting the y value.\n",
    "tv = 100\n",
    "radio = 200\n",
    "newspaper = np.log1p(0) # we log tansformed newspaper variable\n",
    "\n",
    "Y_pred = 3.3532913858151474 + (0.04374250157742166 * tv) + (0.1930370789734531 * radio) + (-0.04895136822248787 * newspaper)\n",
    "print(Y_pred)"
   ]
  },
  {
   "cell_type": "code",
   "execution_count": 91,
   "id": "d19faaf9-a367-4f35-a5e5-fc835c83d6a2",
   "metadata": {},
   "outputs": [
    {
     "name": "stdout",
     "output_type": "stream",
     "text": [
      "[[18.15026866]\n",
      " [12.96136899]\n",
      " [18.05815332]\n",
      " [23.66025079]\n",
      " [20.68751041]\n",
      " [14.26325872]\n",
      " [14.92774472]\n",
      " [21.38847375]\n",
      " [21.14752911]\n",
      " [12.75788534]\n",
      " [23.99735583]\n",
      " [ 7.20632737]\n",
      " [12.30777109]\n",
      " [19.22813333]\n",
      " [19.41581583]\n",
      " [13.44985803]\n",
      " [19.62619644]\n",
      " [ 9.24667496]\n",
      " [21.1052867 ]\n",
      " [20.87838433]\n",
      " [15.52611251]\n",
      " [10.91695579]\n",
      " [22.82910679]\n",
      " [15.82915597]\n",
      " [17.40742204]\n",
      " [ 8.17170435]\n",
      " [11.88738387]\n",
      " [12.69866637]\n",
      " [21.71275044]\n",
      " [ 7.94920205]\n",
      " [12.49118989]\n",
      " [20.43292079]\n",
      " [ 4.71443086]\n",
      " [ 4.72126238]\n",
      " [16.7504848 ]\n",
      " [15.74384945]\n",
      " [ 6.74775596]\n",
      " [17.73750244]\n",
      " [ 9.01170001]\n",
      " [13.60841593]]\n"
     ]
    }
   ],
   "source": [
    "# predict using the models\n",
    "Y_pred = lm.predict(X_test) # validation testing data. \n",
    "print(Y_pred)\n",
    "\n",
    "# storing all the predicting values in Y_pred"
   ]
  },
  {
   "cell_type": "markdown",
   "id": "d2bab08d",
   "metadata": {},
   "source": [
    "NOTE: The reason why we dont use traing data to predict the value is because my model have already learn the data and knows the values while building the model and hence it will give good results only is not ideally correct.  \n",
    "Therefore, we pass unseen test data for validation to check if my model is performing well or not. "
   ]
  },
  {
   "cell_type": "code",
   "execution_count": 92,
   "id": "038ff056-5b15-47c0-bb0c-26f81cbde097",
   "metadata": {
    "scrolled": true
   },
   "outputs": [
    {
     "data": {
      "text/html": [
       "<div>\n",
       "<style scoped>\n",
       "    .dataframe tbody tr th:only-of-type {\n",
       "        vertical-align: middle;\n",
       "    }\n",
       "\n",
       "    .dataframe tbody tr th {\n",
       "        vertical-align: top;\n",
       "    }\n",
       "\n",
       "    .dataframe thead th {\n",
       "        text-align: right;\n",
       "    }\n",
       "</style>\n",
       "<table border=\"1\" class=\"dataframe\">\n",
       "  <thead>\n",
       "    <tr style=\"text-align: right;\">\n",
       "      <th></th>\n",
       "      <th>TV</th>\n",
       "      <th>radio</th>\n",
       "      <th>newspaper</th>\n",
       "      <th>Actual sales</th>\n",
       "      <th>Predicted sales</th>\n",
       "    </tr>\n",
       "  </thead>\n",
       "  <tbody>\n",
       "    <tr>\n",
       "      <th>0</th>\n",
       "      <td>210.7</td>\n",
       "      <td>29.5</td>\n",
       "      <td>2.332144</td>\n",
       "      <td>18.4</td>\n",
       "      <td>18.150269</td>\n",
       "    </tr>\n",
       "    <tr>\n",
       "      <th>1</th>\n",
       "      <td>8.7</td>\n",
       "      <td>48.9</td>\n",
       "      <td>4.330733</td>\n",
       "      <td>7.2</td>\n",
       "      <td>12.961369</td>\n",
       "    </tr>\n",
       "    <tr>\n",
       "      <th>2</th>\n",
       "      <td>218.4</td>\n",
       "      <td>27.7</td>\n",
       "      <td>3.996364</td>\n",
       "      <td>18.0</td>\n",
       "      <td>18.058153</td>\n",
       "    </tr>\n",
       "    <tr>\n",
       "      <th>3</th>\n",
       "      <td>283.6</td>\n",
       "      <td>42.0</td>\n",
       "      <td>4.207673</td>\n",
       "      <td>25.5</td>\n",
       "      <td>23.660251</td>\n",
       "    </tr>\n",
       "    <tr>\n",
       "      <th>4</th>\n",
       "      <td>216.4</td>\n",
       "      <td>41.7</td>\n",
       "      <td>3.703768</td>\n",
       "      <td>22.6</td>\n",
       "      <td>20.687510</td>\n",
       "    </tr>\n",
       "    <tr>\n",
       "      <th>5</th>\n",
       "      <td>147.3</td>\n",
       "      <td>23.9</td>\n",
       "      <td>3.000720</td>\n",
       "      <td>14.6</td>\n",
       "      <td>14.263259</td>\n",
       "    </tr>\n",
       "    <tr>\n",
       "      <th>6</th>\n",
       "      <td>188.4</td>\n",
       "      <td>18.1</td>\n",
       "      <td>3.280911</td>\n",
       "      <td>14.9</td>\n",
       "      <td>14.927745</td>\n",
       "    </tr>\n",
       "    <tr>\n",
       "      <th>7</th>\n",
       "      <td>198.9</td>\n",
       "      <td>49.4</td>\n",
       "      <td>4.110874</td>\n",
       "      <td>23.7</td>\n",
       "      <td>21.388474</td>\n",
       "    </tr>\n",
       "    <tr>\n",
       "      <th>8</th>\n",
       "      <td>216.8</td>\n",
       "      <td>43.9</td>\n",
       "      <td>3.339322</td>\n",
       "      <td>22.3</td>\n",
       "      <td>21.147529</td>\n",
       "    </tr>\n",
       "    <tr>\n",
       "      <th>9</th>\n",
       "      <td>17.2</td>\n",
       "      <td>45.9</td>\n",
       "      <td>4.252772</td>\n",
       "      <td>9.3</td>\n",
       "      <td>12.757885</td>\n",
       "    </tr>\n",
       "    <tr>\n",
       "      <th>10</th>\n",
       "      <td>289.7</td>\n",
       "      <td>42.3</td>\n",
       "      <td>3.955082</td>\n",
       "      <td>25.4</td>\n",
       "      <td>23.997356</td>\n",
       "    </tr>\n",
       "    <tr>\n",
       "      <th>11</th>\n",
       "      <td>66.1</td>\n",
       "      <td>5.8</td>\n",
       "      <td>3.226844</td>\n",
       "      <td>8.6</td>\n",
       "      <td>7.206327</td>\n",
       "    </tr>\n",
       "    <tr>\n",
       "      <th>12</th>\n",
       "      <td>16.9</td>\n",
       "      <td>43.7</td>\n",
       "      <td>4.504244</td>\n",
       "      <td>8.7</td>\n",
       "      <td>12.307771</td>\n",
       "    </tr>\n",
       "    <tr>\n",
       "      <th>13</th>\n",
       "      <td>220.5</td>\n",
       "      <td>33.2</td>\n",
       "      <td>3.660994</td>\n",
       "      <td>20.1</td>\n",
       "      <td>19.228133</td>\n",
       "    </tr>\n",
       "    <tr>\n",
       "      <th>14</th>\n",
       "      <td>229.5</td>\n",
       "      <td>32.3</td>\n",
       "      <td>4.320151</td>\n",
       "      <td>19.7</td>\n",
       "      <td>19.415816</td>\n",
       "    </tr>\n",
       "    <tr>\n",
       "      <th>15</th>\n",
       "      <td>102.7</td>\n",
       "      <td>29.6</td>\n",
       "      <td>2.240710</td>\n",
       "      <td>14.0</td>\n",
       "      <td>13.449858</td>\n",
       "    </tr>\n",
       "    <tr>\n",
       "      <th>16</th>\n",
       "      <td>255.4</td>\n",
       "      <td>26.9</td>\n",
       "      <td>1.871802</td>\n",
       "      <td>19.8</td>\n",
       "      <td>19.626196</td>\n",
       "    </tr>\n",
       "    <tr>\n",
       "      <th>17</th>\n",
       "      <td>5.4</td>\n",
       "      <td>29.9</td>\n",
       "      <td>2.341806</td>\n",
       "      <td>5.3</td>\n",
       "      <td>9.246675</td>\n",
       "    </tr>\n",
       "    <tr>\n",
       "      <th>18</th>\n",
       "      <td>241.7</td>\n",
       "      <td>38.0</td>\n",
       "      <td>3.186353</td>\n",
       "      <td>21.8</td>\n",
       "      <td>21.105287</td>\n",
       "    </tr>\n",
       "    <tr>\n",
       "      <th>19</th>\n",
       "      <td>205.0</td>\n",
       "      <td>45.1</td>\n",
       "      <td>3.025291</td>\n",
       "      <td>22.6</td>\n",
       "      <td>20.878384</td>\n",
       "    </tr>\n",
       "    <tr>\n",
       "      <th>20</th>\n",
       "      <td>187.8</td>\n",
       "      <td>21.1</td>\n",
       "      <td>2.351375</td>\n",
       "      <td>15.6</td>\n",
       "      <td>15.526113</td>\n",
       "    </tr>\n",
       "    <tr>\n",
       "      <th>21</th>\n",
       "      <td>0.7</td>\n",
       "      <td>39.6</td>\n",
       "      <td>2.272126</td>\n",
       "      <td>1.6</td>\n",
       "      <td>10.916956</td>\n",
       "    </tr>\n",
       "    <tr>\n",
       "      <th>22</th>\n",
       "      <td>261.3</td>\n",
       "      <td>42.7</td>\n",
       "      <td>4.019980</td>\n",
       "      <td>24.2</td>\n",
       "      <td>22.829107</td>\n",
       "    </tr>\n",
       "    <tr>\n",
       "      <th>23</th>\n",
       "      <td>110.7</td>\n",
       "      <td>40.6</td>\n",
       "      <td>4.162003</td>\n",
       "      <td>16.0</td>\n",
       "      <td>15.829156</td>\n",
       "    </tr>\n",
       "    <tr>\n",
       "      <th>24</th>\n",
       "      <td>280.2</td>\n",
       "      <td>10.1</td>\n",
       "      <td>3.109061</td>\n",
       "      <td>14.8</td>\n",
       "      <td>17.407422</td>\n",
       "    </tr>\n",
       "    <tr>\n",
       "      <th>25</th>\n",
       "      <td>18.8</td>\n",
       "      <td>21.7</td>\n",
       "      <td>3.939638</td>\n",
       "      <td>7.0</td>\n",
       "      <td>8.171704</td>\n",
       "    </tr>\n",
       "    <tr>\n",
       "      <th>26</th>\n",
       "      <td>25.6</td>\n",
       "      <td>39.0</td>\n",
       "      <td>2.332144</td>\n",
       "      <td>9.5</td>\n",
       "      <td>11.887384</td>\n",
       "    </tr>\n",
       "    <tr>\n",
       "      <th>27</th>\n",
       "      <td>44.5</td>\n",
       "      <td>39.3</td>\n",
       "      <td>3.830813</td>\n",
       "      <td>10.4</td>\n",
       "      <td>12.698666</td>\n",
       "    </tr>\n",
       "    <tr>\n",
       "      <th>28</th>\n",
       "      <td>239.9</td>\n",
       "      <td>41.5</td>\n",
       "      <td>2.970414</td>\n",
       "      <td>23.2</td>\n",
       "      <td>21.712750</td>\n",
       "    </tr>\n",
       "    <tr>\n",
       "      <th>29</th>\n",
       "      <td>19.6</td>\n",
       "      <td>20.1</td>\n",
       "      <td>2.890372</td>\n",
       "      <td>7.6</td>\n",
       "      <td>7.949202</td>\n",
       "    </tr>\n",
       "    <tr>\n",
       "      <th>30</th>\n",
       "      <td>131.7</td>\n",
       "      <td>18.4</td>\n",
       "      <td>3.572346</td>\n",
       "      <td>12.9</td>\n",
       "      <td>12.491190</td>\n",
       "    </tr>\n",
       "    <tr>\n",
       "      <th>31</th>\n",
       "      <td>228.0</td>\n",
       "      <td>37.7</td>\n",
       "      <td>3.496508</td>\n",
       "      <td>21.5</td>\n",
       "      <td>20.432921</td>\n",
       "    </tr>\n",
       "    <tr>\n",
       "      <th>32</th>\n",
       "      <td>27.5</td>\n",
       "      <td>1.6</td>\n",
       "      <td>3.077312</td>\n",
       "      <td>6.9</td>\n",
       "      <td>4.714431</td>\n",
       "    </tr>\n",
       "    <tr>\n",
       "      <th>33</th>\n",
       "      <td>28.6</td>\n",
       "      <td>1.5</td>\n",
       "      <td>3.526361</td>\n",
       "      <td>7.3</td>\n",
       "      <td>4.721262</td>\n",
       "    </tr>\n",
       "    <tr>\n",
       "      <th>34</th>\n",
       "      <td>290.7</td>\n",
       "      <td>4.1</td>\n",
       "      <td>2.251292</td>\n",
       "      <td>12.8</td>\n",
       "      <td>16.750485</td>\n",
       "    </tr>\n",
       "    <tr>\n",
       "      <th>35</th>\n",
       "      <td>276.7</td>\n",
       "      <td>2.3</td>\n",
       "      <td>3.206803</td>\n",
       "      <td>11.8</td>\n",
       "      <td>15.743849</td>\n",
       "    </tr>\n",
       "    <tr>\n",
       "      <th>36</th>\n",
       "      <td>80.2</td>\n",
       "      <td>0.0</td>\n",
       "      <td>2.322388</td>\n",
       "      <td>8.8</td>\n",
       "      <td>6.747756</td>\n",
       "    </tr>\n",
       "    <tr>\n",
       "      <th>37</th>\n",
       "      <td>284.3</td>\n",
       "      <td>10.6</td>\n",
       "      <td>2.001480</td>\n",
       "      <td>15.0</td>\n",
       "      <td>17.737502</td>\n",
       "    </tr>\n",
       "    <tr>\n",
       "      <th>38</th>\n",
       "      <td>89.7</td>\n",
       "      <td>9.9</td>\n",
       "      <td>3.602777</td>\n",
       "      <td>10.6</td>\n",
       "      <td>9.011700</td>\n",
       "    </tr>\n",
       "    <tr>\n",
       "      <th>39</th>\n",
       "      <td>222.4</td>\n",
       "      <td>3.4</td>\n",
       "      <td>2.646175</td>\n",
       "      <td>11.5</td>\n",
       "      <td>13.608416</td>\n",
       "    </tr>\n",
       "  </tbody>\n",
       "</table>\n",
       "</div>"
      ],
      "text/plain": [
       "       TV  radio  newspaper  Actual sales  Predicted sales\n",
       "0   210.7   29.5   2.332144          18.4        18.150269\n",
       "1     8.7   48.9   4.330733           7.2        12.961369\n",
       "2   218.4   27.7   3.996364          18.0        18.058153\n",
       "3   283.6   42.0   4.207673          25.5        23.660251\n",
       "4   216.4   41.7   3.703768          22.6        20.687510\n",
       "5   147.3   23.9   3.000720          14.6        14.263259\n",
       "6   188.4   18.1   3.280911          14.9        14.927745\n",
       "7   198.9   49.4   4.110874          23.7        21.388474\n",
       "8   216.8   43.9   3.339322          22.3        21.147529\n",
       "9    17.2   45.9   4.252772           9.3        12.757885\n",
       "10  289.7   42.3   3.955082          25.4        23.997356\n",
       "11   66.1    5.8   3.226844           8.6         7.206327\n",
       "12   16.9   43.7   4.504244           8.7        12.307771\n",
       "13  220.5   33.2   3.660994          20.1        19.228133\n",
       "14  229.5   32.3   4.320151          19.7        19.415816\n",
       "15  102.7   29.6   2.240710          14.0        13.449858\n",
       "16  255.4   26.9   1.871802          19.8        19.626196\n",
       "17    5.4   29.9   2.341806           5.3         9.246675\n",
       "18  241.7   38.0   3.186353          21.8        21.105287\n",
       "19  205.0   45.1   3.025291          22.6        20.878384\n",
       "20  187.8   21.1   2.351375          15.6        15.526113\n",
       "21    0.7   39.6   2.272126           1.6        10.916956\n",
       "22  261.3   42.7   4.019980          24.2        22.829107\n",
       "23  110.7   40.6   4.162003          16.0        15.829156\n",
       "24  280.2   10.1   3.109061          14.8        17.407422\n",
       "25   18.8   21.7   3.939638           7.0         8.171704\n",
       "26   25.6   39.0   2.332144           9.5        11.887384\n",
       "27   44.5   39.3   3.830813          10.4        12.698666\n",
       "28  239.9   41.5   2.970414          23.2        21.712750\n",
       "29   19.6   20.1   2.890372           7.6         7.949202\n",
       "30  131.7   18.4   3.572346          12.9        12.491190\n",
       "31  228.0   37.7   3.496508          21.5        20.432921\n",
       "32   27.5    1.6   3.077312           6.9         4.714431\n",
       "33   28.6    1.5   3.526361           7.3         4.721262\n",
       "34  290.7    4.1   2.251292          12.8        16.750485\n",
       "35  276.7    2.3   3.206803          11.8        15.743849\n",
       "36   80.2    0.0   2.322388           8.8         6.747756\n",
       "37  284.3   10.6   2.001480          15.0        17.737502\n",
       "38   89.7    9.9   3.602777          10.6         9.011700\n",
       "39  222.4    3.4   2.646175          11.5        13.608416"
      ]
     },
     "execution_count": 92,
     "metadata": {},
     "output_type": "execute_result"
    }
   ],
   "source": [
    "new_df = pd.DataFrame()\n",
    "new_df = X_test.copy()\n",
    "\n",
    "new_df[\"Actual sales\"] = Y_test # passing all the Y_test value in actual values\n",
    "new_df[\"Predicted sales\"] = Y_pred  # passing all the Y_pred in the predicted values.\n",
    "\n",
    "new_df = new_df.reset_index().drop(\"index\", axis = 1)\n",
    "new_df"
   ]
  },
  {
   "cell_type": "markdown",
   "id": "51ffa986",
   "metadata": {},
   "source": [
    "We can observe that the predicted values are pretty close to the actual value but in some case model has not predicted the correct value where the actual value is pretty low and predicted value is high."
   ]
  },
  {
   "cell_type": "code",
   "execution_count": 93,
   "id": "93e5b143-f193-4f60-9abd-7ebdab84163e",
   "metadata": {},
   "outputs": [
    {
     "data": {
      "image/png": "[encoded data removed]",
      "text/plain": [
       "<Figure size 640x480 with 1 Axes>"
      ]
     },
     "metadata": {},
     "output_type": "display_data"
    }
   ],
   "source": [
    "new_df[\"Actual sales\"].plot(color = \"blue\")\n",
    "new_df[\"Predicted sales\"].plot(color = \"orange\")\n",
    "plt.show()"
   ]
  },
  {
   "cell_type": "code",
   "execution_count": 94,
   "id": "4aad400c-b739-428c-b6bf-8380f6f8f055",
   "metadata": {},
   "outputs": [],
   "source": [
    "# Evalution Metrics\n",
    "# R^2, Adjusted R^2, RMSE, AIC/BIC\n",
    "\n",
    "# 1. R^2 - R-Squared - Coefficient of Determination\n",
    "# Formula - R^2 = 1 - [(SSE)/(SST)] \n",
    "# where SSE - regression model error\n",
    "#       SST - mean model error\n",
    "# Definiation: R-squared indicates the amount of variability in Y that can be explained on the basis of all the X variables in the data, it indirectly\n",
    "# helps us identify how better is our regression model in comparison to mean model.\n",
    "# Ideally, R^2 value is 0 and 1.\n",
    "# R^2 = 1 or close to 1, means good model (much better than mean model)\n",
    "# R^2 = 0.5 or close to 0.5, means model requires tuining\n",
    "# R^2 = 0 or close to 0, means poor model (change the algorithm / equivalent to mean model)\n",
    "# In rare case, R^2 is less than 0, discard the model (mean model better than regression model)\n",
    "\n",
    "# 2. Adjusted R^2 - Adjusted R-Squared\n",
    "# Main drawback of R^2: It keeps on increasing as we add more predictor varibales (X) in the data, irrespective of whether they are significant or not,\n",
    "# hence we make use of Adjusted R^2 which is a modified peanlised version of R^2 and is adjusted based on the significant predictors in the model, so it \n",
    "# increases only if significant varibales are added to the data.\n",
    "# Adjusted R^2 is always lower than the R^2 and is preferred metric used to quote the performance of the model since it is more relaible.\n",
    "# Formula - Adjusted R^2 = 1 - [(1 - R^2)(n - 1) / (n - p - 1)]\n",
    "# where n is no. of observations\n",
    "#       p is no. of predictors\n",
    "# If R^2 = 0.88, Adjusted R^2 = 0.877/0.886, ideal scenario\n",
    "# If R^2 = 0.88, Adjusted R^2 = 0.82/0.81, model requires tuining\n",
    "# IF R^2 = 0.4, Adjusted R^2 = 0.39, model requires tuining\n",
    "# Definiation: \n",
    "\n",
    "# 3. RMSE (Root Mean Square Error)\n",
    "# Formula RMSE = {[E(Y_actual - Y_predicted)^2] / n}^0.5\n",
    "# There is no range for RMSE, ideally it should be low.\n",
    "# Depends on range of Y_actual variable.\n",
    "# RMSE is used to compare the model with different algorithms but same data.\n",
    "# Model with least RMSE is the best model.\n",
    "\n",
    "# 4. AIC/BIC (Akaike Information Citeria)/(Base Information Citeria)\n",
    "# AIC is preferred\n",
    "# This method is preferred of Time Series models\n",
    "# Used to compare models where the algorithm remains the same but the data/parameters change.\n",
    "# For example:\n",
    "# Lin Reg - 15 Independent variables - AIC = 582.15\n",
    "# Lin Reg - 11 Independent variables - AIC = 601.27\n",
    "# Lin Reg - 13 Independent variables - AIC = 550.72\n",
    "# Model with least AIC is the best model."
   ]
  },
  {
   "cell_type": "code",
   "execution_count": 95,
   "id": "89894935-3c81-4d5c-a382-6c34592edf9f",
   "metadata": {},
   "outputs": [
    {
     "name": "stdout",
     "output_type": "stream",
     "text": [
      "R-squared: 0.8348010719035319\n",
      "RMSE: 2.5929769110930603\n",
      "Adj R-square: 0.8322725168816472\n"
     ]
    }
   ],
   "source": [
    "from sklearn.metrics import r2_score,mean_squared_error\n",
    "# metrics is a liabrary which stores all the valuation metrics realted function.\n",
    "import numpy as np\n",
    " \n",
    "r2 = r2_score(Y_test,Y_pred)\n",
    "print(\"R-squared:\",r2)\n",
    " \n",
    "rmse = np.sqrt(mean_squared_error(Y_test,Y_pred))\n",
    "print(\"RMSE:\",rmse)\n",
    " \n",
    "adjusted_r_squared = 1 - (1 - r2) * (len(Y) -1 )/(len(Y) - X.shape[1] - 1)\n",
    "print(\"Adj R-square:\",adjusted_r_squared)"
   ]
  },
  {
   "cell_type": "code",
   "execution_count": 96,
   "id": "c8cf0bf0-5257-472f-95ba-9ca3ee93eb91",
   "metadata": {
    "scrolled": true
   },
   "outputs": [
    {
     "name": "stdout",
     "output_type": "stream",
     "text": [
      "sales    1.6\n",
      "dtype: float64\n",
      "sales    25.5\n",
      "dtype: float64\n"
     ]
    }
   ],
   "source": [
    "print(Y_test.min()) # we always check RMSE with the range of Y_test var. \n",
    "print(Y_test.max())"
   ]
  },
  {
   "cell_type": "markdown",
   "id": "e8c5c8de",
   "metadata": {},
   "source": [
    "* Since R-squared is close to 1, Adj R-square is almost close to R-squared and RMSE is less (w.r.t range of Y_actual).\n",
    "* Hence the model we built is a good model.\n",
    "* here we can say that tho newspaper varibles was not fulfilling the assumptions still it is not impacting the model in bad way.  \n",
    "  \n",
    "NOTE: when the clients provides more testing data then we only use the predict function( because my model is already built) will be running to find the predictions and hand it over to the client."
   ]
  },
  {
   "cell_type": "code",
   "execution_count": 98,
   "id": "719d9cc5-0062-458a-9c25-83f953a332ea",
   "metadata": {},
   "outputs": [
    {
     "data": {
      "text/plain": [
       "0.920898664750022"
      ]
     },
     "execution_count": 98,
     "metadata": {},
     "output_type": "execute_result"
    }
   ],
   "source": [
    "lm.score(X_train, Y_train)\n",
    "# Y_pred = lm.predict(X_train)\n",
    "# score = r2_score(Y_train, Y_pred)"
   ]
  },
  {
   "cell_type": "markdown",
   "id": "c4fbb6bc",
   "metadata": {},
   "source": [
    "the score method typically returns the 𝑅2. R2 score, which is the coefficient of determination. It indicates how well the model's predictions approximate the actual data points."
   ]
  },
  {
   "cell_type": "code",
   "execution_count": 99,
   "id": "07cb556c-bdb3-4a8e-93c6-1ed922ef291f",
   "metadata": {
    "scrolled": true
   },
   "outputs": [
    {
     "data": {
      "text/html": [
       "<div>\n",
       "<style scoped>\n",
       "    .dataframe tbody tr th:only-of-type {\n",
       "        vertical-align: middle;\n",
       "    }\n",
       "\n",
       "    .dataframe tbody tr th {\n",
       "        vertical-align: top;\n",
       "    }\n",
       "\n",
       "    .dataframe thead th {\n",
       "        text-align: right;\n",
       "    }\n",
       "</style>\n",
       "<table border=\"1\" class=\"dataframe\">\n",
       "  <thead>\n",
       "    <tr style=\"text-align: right;\">\n",
       "      <th></th>\n",
       "      <th>TV</th>\n",
       "      <th>radio</th>\n",
       "      <th>newspaper</th>\n",
       "      <th>Actual sales</th>\n",
       "      <th>Predicted sales</th>\n",
       "      <th>Residual</th>\n",
       "    </tr>\n",
       "  </thead>\n",
       "  <tbody>\n",
       "    <tr>\n",
       "      <th>0</th>\n",
       "      <td>210.7</td>\n",
       "      <td>29.5</td>\n",
       "      <td>2.332144</td>\n",
       "      <td>18.4</td>\n",
       "      <td>18.150269</td>\n",
       "      <td>0.249731</td>\n",
       "    </tr>\n",
       "    <tr>\n",
       "      <th>1</th>\n",
       "      <td>8.7</td>\n",
       "      <td>48.9</td>\n",
       "      <td>4.330733</td>\n",
       "      <td>7.2</td>\n",
       "      <td>12.961369</td>\n",
       "      <td>-5.761369</td>\n",
       "    </tr>\n",
       "    <tr>\n",
       "      <th>2</th>\n",
       "      <td>218.4</td>\n",
       "      <td>27.7</td>\n",
       "      <td>3.996364</td>\n",
       "      <td>18.0</td>\n",
       "      <td>18.058153</td>\n",
       "      <td>-0.058153</td>\n",
       "    </tr>\n",
       "    <tr>\n",
       "      <th>3</th>\n",
       "      <td>283.6</td>\n",
       "      <td>42.0</td>\n",
       "      <td>4.207673</td>\n",
       "      <td>25.5</td>\n",
       "      <td>23.660251</td>\n",
       "      <td>1.839749</td>\n",
       "    </tr>\n",
       "    <tr>\n",
       "      <th>4</th>\n",
       "      <td>216.4</td>\n",
       "      <td>41.7</td>\n",
       "      <td>3.703768</td>\n",
       "      <td>22.6</td>\n",
       "      <td>20.687510</td>\n",
       "      <td>1.912490</td>\n",
       "    </tr>\n",
       "  </tbody>\n",
       "</table>\n",
       "</div>"
      ],
      "text/plain": [
       "      TV  radio  newspaper  Actual sales  Predicted sales  Residual\n",
       "0  210.7   29.5   2.332144          18.4        18.150269  0.249731\n",
       "1    8.7   48.9   4.330733           7.2        12.961369 -5.761369\n",
       "2  218.4   27.7   3.996364          18.0        18.058153 -0.058153\n",
       "3  283.6   42.0   4.207673          25.5        23.660251  1.839749\n",
       "4  216.4   41.7   3.703768          22.6        20.687510  1.912490"
      ]
     },
     "execution_count": 99,
     "metadata": {},
     "output_type": "execute_result"
    }
   ],
   "source": [
    "new_df[\"Residual\"] = new_df[\"Actual sales\"] - new_df[\"Predicted sales\"] \n",
    "# REsidual --> is the diff between actual and predicted value.\n",
    "\n",
    "# saving all the data into excel file.\n",
    "new_df.to_excel(\"Sales Predicition.xlsx\", header = True, index = True)\n",
    "new_df.head()"
   ]
  },
  {
   "cell_type": "code",
   "execution_count": 100,
   "id": "3ce157a7-824d-4f85-8b30-f248215b0018",
   "metadata": {},
   "outputs": [],
   "source": [
    "# Tuning of the model:\n",
    "# 1. Feature selection: element the var on the basis of domain knowledge\n",
    "# 2. Regularization Techniques (Ridge, LASSO, ElasticNet)\n",
    "# 3. SGD\n",
    "\n",
    "# 2. Regularization Techniques (Ridge, Lasso, ElasticNet)\n",
    "# A. Ridge - L2 penalty\n",
    "# It performs Linear Regressions and helps us identify insignificant independent varibales in model and reduces their beta parameters values such that\n",
    "# the overall impact of these insignificant variables on the model is reduced.\n",
    "# Ridge is preferred when we have less no. of independent varibales and do want to lose any of them.\n",
    "# LR - y = B0 + B1*X1 + B2*X2 + B3*X3 + B4*X4\n",
    "# Suppose X2 and X4 are the insignificant variables (depending on the p-values) then it will adjust the B2 and B4 values so that overall impact of these \n",
    "# insignificant variables on the model is reduced.\n",
    "\n",
    "# B. LASSO - L1 penalty\n",
    "# LASSO - Least Absolute Shrinkage & Selection Operator\n",
    "# It performs Linear Regressions and helps us identify insignificant independent varibales in model and forces the beta parameters values to be zero\n",
    "# such that the overall impact of these insignificant variables on the model is eliminated.\n",
    "# LASSO is preferred when we have large no. of independent variables and we do not mind losing few of them.\n",
    "# LR - y = B0 + B1*X1 + B2*X2 + B3*X3 + B4*X4\n",
    "# Suppose X2 and X4 are the insignificant variables (depending on the p-values) then it will make the B2 and B4 values zero that overall impact of these \n",
    "# insignificant variables on the model is eliminated.\n",
    "\n",
    "# ElasticNet\n",
    "# Mix of Ridge and LASSO\n",
    "# ElasticNet allows us to combine the effect of Ridge and LASSO into a single model, it is preferred where we are not sure whether to \n",
    "# use Ridge or LASSO.\n",
    "# The l1_ratio can be a value between 0 and 1, which indicates the percentage impact of LASSO on the model.\n",
    "# For example: if L1_ratio is 0.4 then it will act 40% like LASSO and 60% like Ridge\n",
    "# The default value is 0.5, which gives equal mix of Ridge and LASSO."
   ]
  },
  {
   "cell_type": "code",
   "execution_count": 101,
   "id": "ba365d6a-8910-4de6-898f-c3c461f4b96d",
   "metadata": {},
   "outputs": [
    {
     "name": "stdout",
     "output_type": "stream",
     "text": [
      "[3.35224717]\n",
      "[[ 0.04374234  0.19302603 -0.04853131]]\n"
     ]
    }
   ],
   "source": [
    "from sklearn.linear_model import Ridge\n",
    "rid = Ridge()\n",
    "rid.fit(X_train, Y_train)\n",
    "\n",
    "\"\"\"\n",
    "previous values:\n",
    "3.3532913858151474\n",
    "[ 0.0437425   0.19303708 -0.04895137]\n",
    "\"\"\"\n",
    "\n",
    "# print intercept and coefficients\n",
    "print(rid.intercept_)\n",
    "print(rid.coef_)"
   ]
  },
  {
   "cell_type": "code",
   "execution_count": 102,
   "id": "3613b830-f269-431a-9b82-6062f0ffc606",
   "metadata": {},
   "outputs": [
    {
     "name": "stdout",
     "output_type": "stream",
     "text": [
      "[[18.14984366]\n",
      " [12.961602  ]\n",
      " [18.05844603]\n",
      " [23.66046356]\n",
      " [20.68752578]\n",
      " [14.26318679]\n",
      " [14.9278479 ]\n",
      " [21.38857787]\n",
      " [21.14736702]\n",
      " [12.75811738]\n",
      " [23.99745819]\n",
      " [ 7.20656373]\n",
      " [12.30813313]\n",
      " [19.22822402]\n",
      " [19.41619189]\n",
      " [13.44941112]\n",
      " [19.62559951]\n",
      " [ 9.24628306]\n",
      " [21.1051215 ]\n",
      " [20.87807898]\n",
      " [15.52579217]\n",
      " [10.91642817]\n",
      " [22.82923662]\n",
      " [15.82939321]\n",
      " [17.40752649]\n",
      " [ 8.17207209]\n",
      " [11.88688403]\n",
      " [12.69878967]\n",
      " [21.71245614]\n",
      " [ 7.94914659]\n",
      " [12.49142141]\n",
      " [20.43289143]\n",
      " [ 4.71465713]\n",
      " [ 4.7216782 ]\n",
      " [16.75029355]\n",
      " [15.74408175]\n",
      " [ 6.74767421]\n",
      " [17.73713545]\n",
      " [ 9.01204512]\n",
      " [13.60840942]]\n"
     ]
    }
   ],
   "source": [
    "Y_pred = rid.predict(X_test)\n",
    "print(Y_pred)"
   ]
  },
  {
   "cell_type": "code",
   "execution_count": 103,
   "id": "10ca786a-21b5-4293-b9b2-0b02764b40b7",
   "metadata": {},
   "outputs": [
    {
     "name": "stdout",
     "output_type": "stream",
     "text": [
      "R-squared: 0.8348082644975935\n",
      "RMSE: 2.5929204626839977\n",
      "Adj R-square: 0.8322798195664342\n"
     ]
    }
   ],
   "source": [
    "from sklearn.metrics import r2_score,mean_squared_error\n",
    "import numpy as np\n",
    " \n",
    "r2 = r2_score(Y_test,Y_pred)\n",
    "print(\"R-squared:\",r2)\n",
    " \n",
    "rmse = np.sqrt(mean_squared_error(Y_test,Y_pred))\n",
    "print(\"RMSE:\",rmse)\n",
    " \n",
    "adjusted_r_squared = 1 - (1 - r2) * (len(Y) -1 )/(len(Y) - X.shape[1] - 1)\n",
    "print(\"Adj R-square:\",adjusted_r_squared)"
   ]
  },
  {
   "cell_type": "code",
   "execution_count": 104,
   "id": "ed7bd969-e4c7-4fe5-9c5f-cee66b818bf8",
   "metadata": {},
   "outputs": [
    {
     "name": "stdout",
     "output_type": "stream",
     "text": [
      "[3.33679406]\n",
      "[ 0.04362374  0.18766033 -0.        ]\n"
     ]
    }
   ],
   "source": [
    "from sklearn.linear_model import Lasso\n",
    "las = Lasso()\n",
    "las.fit(X_train, Y_train)\n",
    "\n",
    "\"\"\"\n",
    "previous values:\n",
    "3.3532913858151474\n",
    "[ 0.0437425   0.19303708 -0.04895137]\n",
    "\"\"\"\n",
    "\n",
    "# print intercept and coefficients\n",
    "print(las.intercept_)\n",
    "print(las.coef_)"
   ]
  },
  {
   "cell_type": "code",
   "execution_count": 105,
   "id": "a2a0d2b8-c7e9-4f73-8afe-c091e03235e9",
   "metadata": {},
   "outputs": [
    {
     "name": "stdout",
     "output_type": "stream",
     "text": [
      "[18.06429565 12.89291061 18.06240985 23.59022036 20.60240696 14.24765273\n",
      " 14.95215852 21.28397604 21.03270918 12.70073142 23.91262327  7.30875314\n",
      " 12.27479157 19.18615151 19.40987087 13.37169781 19.52635995  9.18340605\n",
      " 21.01174436 20.74314144 15.48896526 10.79867965 22.74877319 15.78495133\n",
      " 17.45553519  8.22914947 11.77231457 12.65310134 21.59003277  7.96379194\n",
      " 12.53499059 20.35780103  4.83670342  4.8659235  16.78762249 15.83910155\n",
      "  6.83541797 17.72822269  9.10768074 13.67675885]\n"
     ]
    }
   ],
   "source": [
    "Y_pred = las.predict(X_test)\n",
    "print(Y_pred)"
   ]
  },
  {
   "cell_type": "code",
   "execution_count": 106,
   "id": "41a64f84-8365-4ecf-9715-f42e2a949697",
   "metadata": {},
   "outputs": [
    {
     "name": "stdout",
     "output_type": "stream",
     "text": [
      "R-squared: 0.8360506658527163\n",
      "RMSE: 2.5831514271094234\n",
      "Adj R-square: 0.8335412372688292\n"
     ]
    }
   ],
   "source": [
    "from sklearn.metrics import r2_score,mean_squared_error\n",
    "import numpy as np\n",
    " \n",
    "r2 = r2_score(Y_test,Y_pred)\n",
    "print(\"R-squared:\",r2)\n",
    " \n",
    "rmse = np.sqrt(mean_squared_error(Y_test,Y_pred))\n",
    "print(\"RMSE:\",rmse)\n",
    " \n",
    "adjusted_r_squared = 1 - (1 - r2) * (len(Y) -1 )/(len(Y) - X.shape[1] - 1)\n",
    "print(\"Adj R-square:\",adjusted_r_squared)\n"
   ]
  },
  {
   "cell_type": "markdown",
   "id": "95740c17",
   "metadata": {},
   "source": [
    "* Earlier R-squared: 0.8348010719035319  \n",
    "          RMSE: 2.5929769110930603  \n",
    "          Adj R-square: 0.8322725168816472  \n",
    "* Here i can state that the model have slightly improve as compared to the earlier model after tuning."
   ]
  },
  {
   "cell_type": "code",
   "execution_count": 107,
   "id": "5d849150-ada6-4bdc-8250-0890f937a665",
   "metadata": {},
   "outputs": [
    {
     "name": "stdout",
     "output_type": "stream",
     "text": [
      "[3.26677821]\n",
      "[ 0.04369425  0.19035493 -0.        ]\n"
     ]
    }
   ],
   "source": [
    "from sklearn.linear_model import ElasticNet\n",
    "en = ElasticNet(l1_ratio = 0.3) #  30% like LASSO and 70% Ridge\n",
    "en.fit(X_train, Y_train)\n",
    "\n",
    "\"\"\"\n",
    "previous values:\n",
    "3.3532913858151474\n",
    "[ 0.0437425   0.19303708 -0.04895137]\n",
    "\"\"\"\n",
    "\n",
    "# print intercept and coefficients\n",
    "print(en.intercept_)\n",
    "print(en.coef_)"
   ]
  },
  {
   "cell_type": "markdown",
   "id": "8b6817f5",
   "metadata": {},
   "source": [
    "so here the lasso has interpreted the insignificant variable and consider it as 0, hence the model will now only consider tv and newspaper variable."
   ]
  },
  {
   "cell_type": "code",
   "execution_count": 108,
   "id": "cbc141ef-ebc0-4fb9-9801-b8e573524af8",
   "metadata": {},
   "outputs": [
    {
     "name": "stdout",
     "output_type": "stream",
     "text": [
      "[18.08862678 12.95527437 18.08243361 23.65337411 20.66001417 14.25242383\n",
      " 14.94419881 21.36109781 21.09627272 12.75561068 23.97701551  7.25902661\n",
      " 12.32372155 19.22114366 19.44307245 13.38868348 19.54683684  9.19433963\n",
      " 21.06116539 20.80910651 15.48904706 10.83541951 22.81224084 15.83214173\n",
      " 17.43249132  8.21893211 11.80919333 12.69212109 21.64875801  7.94931961\n",
      " 12.52384143 20.40544771  4.77293792  4.8019661  16.74915133 15.79479298\n",
      "  6.7710569  17.7068152   9.07066609 13.63158574]\n"
     ]
    }
   ],
   "source": [
    "Y_pred = en.predict(X_test)\n",
    "print(Y_pred)"
   ]
  },
  {
   "cell_type": "code",
   "execution_count": 109,
   "id": "2fb94a91-4b4c-4550-82c4-4e595eec1947",
   "metadata": {},
   "outputs": [
    {
     "name": "stdout",
     "output_type": "stream",
     "text": [
      "R-squared: 0.8358044992886291\n",
      "RMSE: 2.5850899741654314\n",
      "Adj R-square: 0.8332913028491693\n"
     ]
    }
   ],
   "source": [
    "from sklearn.metrics import r2_score,mean_squared_error\n",
    "import numpy as np\n",
    " \n",
    "r2 = r2_score(Y_test,Y_pred)\n",
    "print(\"R-squared:\",r2)\n",
    " \n",
    "rmse = np.sqrt(mean_squared_error(Y_test,Y_pred))\n",
    "print(\"RMSE:\",rmse)\n",
    " \n",
    "adjusted_r_squared = 1 - (1 - r2) * (len(Y) -1 )/(len(Y) - X.shape[1] - 1)\n",
    "print(\"Adj R-square:\",adjusted_r_squared)"
   ]
  },
  {
   "cell_type": "markdown",
   "id": "ad365b21",
   "metadata": {},
   "source": [
    "##### Conclusion:\n",
    "* We can state that out of all the model i.e linear regressiuon model, rigde model, and lasso. Lasso is performing comparetively with other model well with good accuracy score. "
   ]
  },
  {
   "cell_type": "code",
   "execution_count": null,
   "id": "ec0bea5c",
   "metadata": {},
   "outputs": [],
   "source": []
  },
  {
   "cell_type": "markdown",
   "id": "57f4f7de",
   "metadata": {},
   "source": [
    "#### Evalutaing the model on basis of stats model"
   ]
  },
  {
   "cell_type": "code",
   "execution_count": null,
   "id": "8752dfbc-16ed-491f-8a91-d5ab8a9cc2ab",
   "metadata": {},
   "outputs": [],
   "source": [
    "# OLS - OLS(Y_train, X_train)\n",
    "# ols - ols(Y ~ X1 + X2 + X3)"
   ]
  },
  {
   "cell_type": "code",
   "execution_count": null,
   "id": "1adfbff5-4df1-4d03-b473-9a479b675b41",
   "metadata": {},
   "outputs": [],
   "source": [
    "# fit(X_train, Y_train) -- sklearn\n",
    "# Y ~ X1 + X2 + X3, data = DF -- statsmodel"
   ]
  },
  {
   "cell_type": "code",
   "execution_count": 130,
   "id": "385caac0-ccd8-4e52-bce7-777e7145910b",
   "metadata": {},
   "outputs": [
    {
     "data": {
      "text/plain": [
       "(160, 4)"
      ]
     },
     "execution_count": 130,
     "metadata": {},
     "output_type": "execute_result"
    }
   ],
   "source": [
    "new_df = pd.DataFrame()\n",
    "new_df = X_train.copy()\n",
    "\n",
    "new_df[\"sales\"] = Y_train.copy()\n",
    "new_df.shape"
   ]
  },
  {
   "cell_type": "code",
   "execution_count": 131,
   "id": "8a4aa829-0a78-4a0d-b1fc-e02bf010c58d",
   "metadata": {
    "scrolled": true
   },
   "outputs": [
    {
     "name": "stdout",
     "output_type": "stream",
     "text": [
      "Intercept    3.353291\n",
      "TV           0.043743\n",
      "radio        0.193037\n",
      "newspaper   -0.048951\n",
      "dtype: float64\n",
      "                            OLS Regression Results                            \n",
      "==============================================================================\n",
      "Dep. Variable:                  sales   R-squared:                       0.921\n",
      "Model:                            OLS   Adj. R-squared:                  0.919\n",
      "Method:                 Least Squares   F-statistic:                     605.4\n",
      "Date:                Sat, 08 Jun 2024   Prob (F-statistic):           1.10e-85\n",
      "Time:                        18:15:59   Log-Likelihood:                -276.63\n",
      "No. Observations:                 160   AIC:                             561.3\n",
      "Df Residuals:                     156   BIC:                             573.6\n",
      "Df Model:                           3                                         \n",
      "Covariance Type:            nonrobust                                         \n",
      "==============================================================================\n",
      "                 coef    std err          t      P>|t|      [0.025      0.975]\n",
      "------------------------------------------------------------------------------\n",
      "Intercept      3.3533      0.442      7.578      0.000       2.479       4.227\n",
      "TV             0.0437      0.001     32.516      0.000       0.041       0.046\n",
      "radio          0.1930      0.008     24.946      0.000       0.178       0.208\n",
      "newspaper     -0.0490      0.125     -0.391      0.697      -0.297       0.199\n",
      "==============================================================================\n",
      "Omnibus:                       12.594   Durbin-Watson:                   2.106\n",
      "Prob(Omnibus):                  0.002   Jarque-Bera (JB):               13.403\n",
      "Skew:                          -0.699   Prob(JB):                      0.00123\n",
      "Kurtosis:                       3.237   Cond. No.                         697.\n",
      "==============================================================================\n",
      "\n",
      "Notes:\n",
      "[1] Standard Errors assume that the covariance matrix of the errors is correctly specified.\n"
     ]
    }
   ],
   "source": [
    "import statsmodels.formula.api as sm\n",
    " \n",
    "# create a fitted model with all three features\n",
    "lm_model = sm.ols(formula = 'sales ~ TV + radio + newspaper', data = new_df).fit()\n",
    " \n",
    "# print the coefficients\n",
    "print(lm_model.params)\n",
    "print(lm_model.summary())"
   ]
  },
  {
   "cell_type": "markdown",
   "id": "640a1a24",
   "metadata": {},
   "source": [
    "The output you've provided is the result of an Ordinary Least Squares (OLS) regression analysis. Here's a detailed breakdown of what each part of the output means wrt to LR:\n",
    "\n",
    "* R-squared (0.921): The model explains 92.1% of the variance in sales, which indicates a very good fit. This means that the majority of the variation in sales can be explained by the variation in TV, radio, and newspaper advertising expenditures.\n",
    "* Adjusted R-squared (0.919): Adjusted for the number of predictors in the model, it is very close to the R-squared value, further indicating a strong model fit.  hence we can say that here the r^2 is close 1 and the adjusted r^2 is almost close to r_sq hence we can say that it is a good model. but on the train data\n",
    "   \n",
    "      \n",
    "* Intercept (3.3533): The intercept is statistically significant (p-value = 0.000). This means that when all predictors are zero, the baseline sales are approximately 3.353 units.\n",
    "* TV (0.0437): The coefficient for TV advertising is positive and statistically significant (p-value = 0.000). This suggests that for each additional unit spent on TV advertising, sales increase by 0.0437 units, holding other factors constant.\n",
    "* Radio (0.1930): The coefficient for radio advertising is also positive and statistically significant (p-value = 0.000). This indicates that for each additional unit spent on radio advertising, sales increase by 0.1930 units, holding other factors constant.\n",
    "* Newspaper (-0.0490): The coefficient for newspaper advertising is negative but not statistically significant (p-value = 0.697). This implies that, within this model, newspaper advertising does not have a significant impact on sales when TV and radio expenditures are considered.\n",
    "\n",
    "* if check p-values Hypothesis \n",
    "Ho - There is no significant relationship between X and Y variables  \n",
    "H1 - There is a significant relationship between X and Y variables  \n",
    "p<0.05  \n",
    "if p-value is low the null must go (rejects Ho)  \n",
    "if p-values is high, the null must fly (fail to reject Ho)\n",
    "Here newspaper p-values is greater than 0.5 means it rejects the null hypo which means newspaper has no significant relation with y ( sales) variable. hence we can remove the variable and try building the model again.\n",
    "* durbin watson ( check autocorrelation): since the 2.106 is close to 2 hence the variables have no auto correlation in the data. Note: if we get value close to 0 or 4 then ideally we have done LR on time series model data."
   ]
  },
  {
   "cell_type": "code",
   "execution_count": 132,
   "id": "7b29ef0c-8f7e-4b8e-9ace-c09b8a6f34ec",
   "metadata": {},
   "outputs": [],
   "source": [
    "# Hypothesis on LR\n",
    "# Ho - There is no significant relationship between X and Y variables\n",
    "# H1 - There is a significant relationship between X and Y variables\n",
    "# p<0.05\n",
    "# if p-value is low the null must go (rejects Ho)\n",
    "#if p-values is high, the null must fly (fail to reject Ho)\n",
    "\n",
    "# Durbin - Watson Test:\n",
    "# Used to check whether there is auto-correlation or not in data \n",
    "# Auto co relation means relationship/dependency between observation in a variable\n",
    "# eg: yesterdays observation have an impact on todays observation\n",
    "# Note: there will be no auto correlation between the values in the regression problem \n",
    "#       because there is relation between variable and not the obs. this would ideally work for time series modelling \n",
    "#         Eg:In predicting house prices, the selling price of a house depends on various independent variables such \n",
    "#         as sqft area, number of bedrooms, etc. The selling price does not depend on individual observations. \n",
    "#         For example, if Mr. A sells his house for 43 lakhs, this does not directly influence the price at which Mr. B \n",
    "#         sells his house. Instead, the selling price for Mr. B's house will depend on the characteristics of his house, \n",
    "#         such as its size, number of bedrooms, location, and other relevant factors \n",
    "#         This statement clearly explains that house prices are determined by their features rather than the prices \n",
    "#         at which other houses were sold.\n",
    "# It has value 0 to 4\n",
    "# If the value is close to 2 - no auto -correlation\n",
    "# If the value is close to 4 - negative auto-correlation\n",
    "# vaue close to 0 ---> +ve autocorrelation\n",
    "# value close to 4---> -ve autocorrelation."
   ]
  },
  {
   "cell_type": "code",
   "execution_count": 133,
   "id": "62403337-c545-4d81-b26d-afd6a00ca216",
   "metadata": {},
   "outputs": [
    {
     "name": "stdout",
     "output_type": "stream",
     "text": [
      "60     18.150269\n",
      "6      12.961369\n",
      "21     18.058153\n",
      "199    23.660251\n",
      "53     20.687510\n",
      "20     14.263259\n",
      "163    14.927745\n",
      "56     21.388474\n",
      "70     21.147529\n",
      "3      12.757885\n",
      "99     23.997356\n",
      "11      7.206327\n",
      "76     12.307771\n",
      "143    19.228133\n",
      "125    19.415816\n",
      "64     13.449858\n",
      "110    19.626196\n",
      "79      9.246675\n",
      "112    21.105287\n",
      "186    20.878384\n",
      "155    15.526113\n",
      "131    10.916956\n",
      "62     22.829107\n",
      "88     15.829156\n",
      "103    17.407422\n",
      "122     8.171704\n",
      "137    11.887384\n",
      "2      12.698666\n",
      "48     21.712750\n",
      "173     7.949202\n",
      "160    12.491190\n",
      "40     20.432921\n",
      "77      4.714431\n",
      "92      4.721262\n",
      "36     16.750485\n",
      "179    15.743849\n",
      "128     6.747756\n",
      "170    17.737502\n",
      "47      9.011700\n",
      "175    13.608416\n",
      "dtype: float64\n"
     ]
    }
   ],
   "source": [
    "# now we will try to predict on test data.\n",
    "Y_pred_new = lm_model.predict(X_test)\n",
    "print(Y_pred_new)"
   ]
  },
  {
   "cell_type": "code",
   "execution_count": 134,
   "id": "0d9525ab-e83a-4375-bade-864b6ff1933c",
   "metadata": {},
   "outputs": [
    {
     "name": "stdout",
     "output_type": "stream",
     "text": [
      "R-squared: 0.8348010719035377\n",
      "RMSE: 2.592976911093015\n",
      "Adj R-square: 0.832272516881653\n"
     ]
    }
   ],
   "source": [
    "from sklearn.metrics import r2_score,mean_squared_error\n",
    "import numpy as np\n",
    " \n",
    "r2 = r2_score(Y_test, Y_pred_new)\n",
    "print(\"R-squared:\", r2)\n",
    " \n",
    "rmse = np.sqrt(mean_squared_error(Y_test, Y_pred_new))\n",
    "print(\"RMSE:\", rmse)\n",
    " \n",
    "adjusted_r_squared = 1 - (1 - r2) * (len(Y) -1 )/(len(Y) - X.shape[1] - 1)\n",
    "print(\"Adj R-square:\", adjusted_r_squared)"
   ]
  },
  {
   "cell_type": "code",
   "execution_count": 135,
   "id": "72bb0e36-ea66-48c8-909c-accffb62f84b",
   "metadata": {
    "scrolled": true
   },
   "outputs": [
    {
     "name": "stdout",
     "output_type": "stream",
     "text": [
      "Intercept    3.217026\n",
      "TV           0.043721\n",
      "radio        0.192425\n",
      "dtype: float64\n",
      "                            OLS Regression Results                            \n",
      "==============================================================================\n",
      "Dep. Variable:                  sales   R-squared:                       0.921\n",
      "Model:                            OLS   Adj. R-squared:                  0.920\n",
      "Method:                 Least Squares   F-statistic:                     912.9\n",
      "Date:                Sat, 08 Jun 2024   Prob (F-statistic):           3.47e-87\n",
      "Time:                        22:38:56   Log-Likelihood:                -276.70\n",
      "No. Observations:                 160   AIC:                             559.4\n",
      "Df Residuals:                     157   BIC:                             568.6\n",
      "Df Model:                           2                                         \n",
      "Covariance Type:            nonrobust                                         \n",
      "==============================================================================\n",
      "                 coef    std err          t      P>|t|      [0.025      0.975]\n",
      "------------------------------------------------------------------------------\n",
      "Intercept      3.2170      0.271     11.855      0.000       2.681       3.753\n",
      "TV             0.0437      0.001     32.616      0.000       0.041       0.046\n",
      "radio          0.1924      0.008     25.462      0.000       0.177       0.207\n",
      "==============================================================================\n",
      "Omnibus:                       12.555   Durbin-Watson:                   2.100\n",
      "Prob(Omnibus):                  0.002   Jarque-Bera (JB):               13.347\n",
      "Skew:                          -0.697   Prob(JB):                      0.00126\n",
      "Kurtosis:                       3.241   Cond. No.                         418.\n",
      "==============================================================================\n",
      "\n",
      "Notes:\n",
      "[1] Standard Errors assume that the covariance matrix of the errors is correctly specified.\n"
     ]
    }
   ],
   "source": [
    "import statsmodels.formula.api as sm\n",
    " \n",
    "# create a fitted model with only 2 variable ( not including the newspaper variable.) features\n",
    "lm_model = sm.ols(formula = 'sales ~ TV + radio', data = new_df).fit()\n",
    " \n",
    "# print the coefficients\n",
    "print(lm_model.params)\n",
    "print(lm_model.summary())"
   ]
  },
  {
   "cell_type": "markdown",
   "id": "a05b1fdb",
   "metadata": {},
   "source": [
    "* The intercept value, tv and radio values has slightly change because i have not included newspaper variable. \n",
    "* if we observe the R^2 value in the above model is also same as this modell i.e 0.921. which means tho news paper was not a significant variable but it didnt had a bad impact on the model. that is why the R^2 value as not change.\n",
    "* but if we see adjusted r^2 value has improved compared to previous  adj r^2 which means building a model with only significant variable tv and radio the adjusted r^2 has increase moving close to r^2. \n",
    "* Since the r^2 and adj r^2 value is close means it is a good model than previous.\n",
    "* AIC value has also reduce compared to previous model.  it is the  least AIC value till now hence it indicates that it is good model.\n",
    "* durbin -watson values as move more closer to zero means there is no auto correlation in the data."
   ]
  },
  {
   "cell_type": "code",
   "execution_count": 136,
   "id": "77fef93b-be42-48a8-994b-4a11768c7d56",
   "metadata": {},
   "outputs": [
    {
     "name": "stdout",
     "output_type": "stream",
     "text": [
      "60     18.105496\n",
      "6      13.006964\n",
      "21     18.095780\n",
      "199    23.698040\n",
      "53     20.702285\n",
      "20     14.256028\n",
      "163    14.936884\n",
      "56     21.418844\n",
      "70     21.143108\n",
      "3      12.801316\n",
      "99     24.022463\n",
      "11      7.223024\n",
      "76     12.364865\n",
      "143    19.245930\n",
      "125    19.466233\n",
      "64     13.402908\n",
      "110    19.559504\n",
      "79      9.206617\n",
      "112    21.096446\n",
      "186    20.858114\n",
      "155    15.487925\n",
      "131    10.867649\n",
      "62     22.857767\n",
      "88     15.869345\n",
      "103    17.411041\n",
      "122     8.214591\n",
      "137    11.840839\n",
      "2      12.724886\n",
      "48     21.691235\n",
      "173     7.941688\n",
      "160    12.515650\n",
      "40     20.439746\n",
      "77      4.727223\n",
      "92      4.756074\n",
      "36     16.715560\n",
      "179    15.757106\n",
      "128     6.723422\n",
      "170    17.686508\n",
      "47      9.043773\n",
      "175    13.594742\n",
      "dtype: float64\n"
     ]
    }
   ],
   "source": [
    "Y_pred_new = lm_model.predict(X_test)\n",
    "print(Y_pred_new)"
   ]
  },
  {
   "cell_type": "code",
   "execution_count": 137,
   "id": "81d9aaa3-dd37-4e32-bf4c-c19aabccf191",
   "metadata": {},
   "outputs": [
    {
     "name": "stdout",
     "output_type": "stream",
     "text": [
      "R-squared: 0.8354496662944217\n",
      "RMSE: 2.5878817077378105\n",
      "Adj R-square: 0.8329310387377037\n"
     ]
    }
   ],
   "source": [
    "from sklearn.metrics import r2_score,mean_squared_error\n",
    "import numpy as np\n",
    " \n",
    "r2 = r2_score(Y_test, Y_pred_new)\n",
    "print(\"R-squared:\", r2)\n",
    " \n",
    "rmse = np.sqrt(mean_squared_error(Y_test, Y_pred_new))\n",
    "print(\"RMSE:\", rmse)\n",
    " \n",
    "adjusted_r_squared = 1 - (1 - r2) * (len(Y) -1 )/(len(Y) - X.shape[1] - 1)\n",
    "print(\"Adj R-square:\", adjusted_r_squared)"
   ]
  },
  {
   "cell_type": "markdown",
   "id": "36d48b6d",
   "metadata": {},
   "source": [
    "* We can conclude here if the clients wants dont want to invest in the newspaper because there is no relation with sales.  then we can go with ols model with tv and radio varible.\n",
    "* But if the client still wants to invest in newspaper desipte of decrease in sale then we can go with the lasso model. \n"
   ]
  },
  {
   "cell_type": "code",
   "execution_count": null,
   "id": "7adccda5-04ef-44b7-8b07-fd574b456600",
   "metadata": {},
   "outputs": [],
   "source": [
    "# Post-model building assumptions"
   ]
  },
  {
   "cell_type": "code",
   "execution_count": 139,
   "id": "b82b37af-426f-4ad8-a2e8-0584c5ed3b32",
   "metadata": {},
   "outputs": [
    {
     "data": {
      "image/png": "[encoded data removed]",
      "text/plain": [
       "<Figure size 640x480 with 1 Axes>"
      ]
     },
     "metadata": {},
     "output_type": "display_data"
    }
   ],
   "source": [
    "# Assumption 1 : Errors should be random\n",
    "# checked using Residual v/s Fitted plot\n",
    "model_fitted_y = lm_model.fittedvalues\n",
    "sns.residplot(x = model_fitted_y, y = 'sales', data = new_df, lowess = True)\n",
    "plt.xlabel('Fitted values')\n",
    "plt.ylabel('Residuals')\n",
    "plt.show()\n",
    "\n",
    "# The indicative line should be random and should not follow a wave-like pattern\n",
    "# if we see pattern then we will re build the model till we met the assumption."
   ]
  },
  {
   "cell_type": "code",
   "execution_count": 140,
   "id": "66e94541-f649-41f6-afd0-dd8180bd9d97",
   "metadata": {},
   "outputs": [
    {
     "data": {
      "image/png": "[encoded data removed]",
      "text/plain": [
       "<Figure size 640x480 with 1 Axes>"
      ]
     },
     "metadata": {},
     "output_type": "display_data"
    }
   ],
   "source": [
    "# Assumption 2 : Errors should follow a approximate normal distribution\n",
    "# checked using Normal QQ plot\n",
    "import statsmodels.api as sma\n",
    "sma.qqplot(lm_model.resid, line = 's')\n",
    "plt.show()\n",
    "\n",
    "# Error points should follow the red diagonal line to conclude that they follow a approximate normal distribution"
   ]
  },
  {
   "cell_type": "code",
   "execution_count": 142,
   "id": "58b09569-282b-4498-8e2b-d77860506912",
   "metadata": {},
   "outputs": [
    {
     "data": {
      "image/png": "[encoded data removed]",
      "text/plain": [
       "<Figure size 640x480 with 1 Axes>"
      ]
     },
     "metadata": {},
     "output_type": "display_data"
    }
   ],
   "source": [
    "# Assumption 3: Errors should follow a constant variance - Homoskedasticity\n",
    "# checked using Scale location plot\n",
    "model_norm_residuals_abs_sqrt = np.sqrt(np.abs(lm_model.resid))\n",
    " \n",
    "sns.regplot(x = lm_model.fittedvalues, y = model_norm_residuals_abs_sqrt, scatter = True, lowess = True)        \n",
    "plt.ylabel(\"Standarized residuals\")\n",
    "plt.xlabel(\"Fitted value\")\n",
    "plt.show()\n",
    "\n",
    "# The indicative line should be approximately horizontal and should not show a steep angle with a V-shape curve/structure (Heteroskedasticity) where the errors dont follow constant variance.. "
   ]
  },
  {
   "cell_type": "code",
   "execution_count": null,
   "id": "d4ccb005-f39c-4b8a-b21e-7e690d9de815",
   "metadata": {},
   "outputs": [],
   "source": []
  },
  {
   "cell_type": "code",
   "execution_count": null,
   "id": "92012c09-3113-4ab8-abec-907e48d34867",
   "metadata": {},
   "outputs": [],
   "source": []
  },
  {
   "cell_type": "code",
   "execution_count": null,
   "id": "17fa62fa-c9e6-4cfc-82fc-689386b5f538",
   "metadata": {},
   "outputs": [],
   "source": []
  }
 ],
 "metadata": {
  "kernelspec": {
   "display_name": "Python 3 (ipykernel)",
   "language": "python",
   "name": "python3"
  },
  "language_info": {
   "codemirror_mode": {
    "name": "ipython",
    "version": 3
   },
   "file_extension": ".py",
   "mimetype": "text/x-python",
   "name": "python",
   "nbconvert_exporter": "python",
   "pygments_lexer": "ipython3",
   "version": "3.11.5"
  }
 },
 "nbformat": 4,
 "nbformat_minor": 5
}
